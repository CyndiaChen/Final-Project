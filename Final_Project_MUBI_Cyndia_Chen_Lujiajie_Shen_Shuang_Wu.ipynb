{
  "nbformat": 4,
  "nbformat_minor": 0,
  "metadata": {
    "colab": {
      "name": "Final Project MUBI_Cyndia Chen_Lujiajie Shen_Shuang Wu.ipynb",
      "provenance": [],
      "collapsed_sections": [],
      "include_colab_link": true
    },
    "kernelspec": {
      "display_name": "Python 3",
      "name": "python3"
    }
  },
  "cells": [
    {
      "cell_type": "markdown",
      "metadata": {
        "id": "view-in-github",
        "colab_type": "text"
      },
      "source": [
        "<a href=\"https://colab.research.google.com/github/CyndiaChen/Final-Project/blob/main/Final_Project_MUBI_Cyndia_Chen_Lujiajie_Shen_Shuang_Wu.ipynb\" target=\"_parent\"><img src=\"https://colab.research.google.com/assets/colab-badge.svg\" alt=\"Open In Colab\"/></a>"
      ]
    },
    {
      "cell_type": "markdown",
      "metadata": {
        "id": "2VR4aLfYPhe-"
      },
      "source": [
        "# **1. Business Understanding**"
      ]
    },
    {
      "cell_type": "markdown",
      "metadata": {
        "id": "Dalow69LPk-3"
      },
      "source": [
        "In modern society, movie is playing an indivisible role in people's entertaining lives. However, because of the pandemic, the theatre continually shut down. Therefore, online movies become a good option. MUBI is one of them, with a human-curated selection of thirty movies on a daily rotating basis.\n",
        "\n",
        "MUBI is a global film platform that provides a hand-curated selection of films on demand, streaming ad-free on its proprietary technology, access to its international film criticism and news publication Notebook, and weekly cinema tickets to selected new release films through MUBI GO. MUBI also produces and theatrically distributes films by emerging and world renowned filmmakers, which members can see exclusively on the platform.\n",
        "\n",
        "MUBI's streaming platform is available in over 190 countries on the web, Roku devices, PlayStation, Amazon Fire TV, Apple TV, LG and Samsung Smart TVs, as well as on mobile devices including iPhone, iPad and Android.\n",
        "Users of MUBI can watch the movies and review the lastest news, interviews, and criticism. At the same time, there is a global communicty system which allows the users to rate, review, discuss the movies. \n",
        "\n",
        "MUBI runs in a membership system. As if you sign on the website, you will have to fill in either the card information or paypal information. New users can have a 30 days free trial. After that, users will be charged automatically for $8.99 per month to freely watch the movies. Some people may leave the website after the free trial while others stay. The differences in membership (charged/free trial) is shown in our dataset.\n",
        "\n",
        "In this project, we want to study if the differences in membership will result in different preferences on movie, and if the differences are associated with rating on movies. We want to learn more knowledge about the film and movie sector, see what will be the most popular movie. And as MUBI is a membership system, we want to see people’s acceptance to online charged membership, especially for membership that is not related to fundamental needs like food and water.\n",
        "\n",
        "https://mubi.com/about\n",
        "\n",
        "https://en.wikipedia.org/wiki/Mubi_(streaming_service)\n"
      ]
    },
    {
      "cell_type": "markdown",
      "metadata": {
        "id": "MbN5ug8fX98J"
      },
      "source": [
        "# **2. Data Understanding**\n",
        "\n",
        "\n"
      ]
    },
    {
      "cell_type": "markdown",
      "metadata": {
        "id": "B9Emou6jYfwS"
      },
      "source": [
        "\n",
        "Our dataset includes three MUBI objects: MUBI movie data, MUBI movie rating dta, and MUBI movie lists data.The movie data includes all movies in MUBI until April 25th 2020. The Ratings data include ratings from April 19th 2020 to April 26th 2020. And the lists data include data from MUBI lists for users from May 1st 2020 to May 3rd 2020.\n",
        "\n",
        "The table 'movies' contains data from all movies registered on MUBI.\n",
        "user_id: User ID for the user who created the list\n",
        "\n",
        "The table 'ratings' contains data from ratings on MUBI for users who did not set their profile in private mode. This table goes back to 2008 and has about 15 million rows.\n",
        "\n",
        "The table 'ratings_users' is three times smaller than the table 'ratings'. It has a daily granularity. Only the user information related the last rating for a specific day is stored in this table.\n",
        "\n",
        "The table 'lists' contains data from MUBI lists for users who did not set their profile in private mode.\n",
        "\n",
        "The table 'lists_users' contains user data related to the created lists for users who did not set their profile in private mode.\n",
        "\n",
        "\n"
      ]
    },
    {
      "cell_type": "code",
      "metadata": {
        "colab": {
          "base_uri": "https://localhost:8080/",
          "height": 542
        },
        "id": "8Ys4EuNmaOfs",
        "outputId": "723902ca-25f1-489a-fa65-5c61ce1220b0"
      },
      "source": [
        "#Create table for the variables, meaning of each varibale and the types of data they are.\n",
        "import plotly.graph_objects as go\n",
        "\n",
        "headerColor = 'grey'\n",
        "rowEvenColor = 'lightgrey'\n",
        "rowOddColor = 'white'\n",
        "\n",
        "fig = go.Figure(data=[go.Table(\n",
        "  header=dict(\n",
        "    values=['<b>Variables</b>','<b>Meanings</b>','<b>Data type</b>'],\n",
        "    line_color='darkslategray',\n",
        "    fill_color=headerColor,\n",
        "    align=['left','center'],\n",
        "    font=dict(color='white', size=12)\n",
        "  ),\n",
        "  cells=dict(\n",
        "    values=[\n",
        "      ['user_id', 'list_id', 'list_title', 'list_movie_number', 'list_update_timestamp_utc', 'list_creation_timestamp_utc', 'list_followers', 'list_url', 'list_comments', 'list_description', 'list_update_date_utc', 'list_creation_date_utc', 'user_trialist', 'user_subscriber', 'user_avatar_image_url', 'user_eligible_for_trial', 'user_has_payment_method', 'movie_title', 'movie_release_year', 'movie_url', 'movie_title_language', 'movie_popularity', 'movie_image_url', 'director_id', 'director_name', 'director_url', 'rating_id', 'rating_url', 'rating_score', 'rating_timestamp_utc', 'critic', 'critic_likes', 'critic_comments'],\n",
        "      ['User ID for the user who created the list', 'List ID on Mubi', 'Name of the list', 'Number of movies included in the list', 'Last update timestamp for the list', 'Creation timestamp for the list', 'list_followers', 'URL to the list', 'Number of comments on this list', 'Description of the list', 'Last update date for the list', 'Creation date for the list', '1 = the user was a trialist when he created the list 0 = the user was not a trialist when he created the list', '1 = the user was a subscriber when he created the list 0 = the user was not a subscriber when he created the list', 'User profile image URL on Mubi', '1 = the user was eligible for trial when he created the list 0 = the user was not eligible for trial when he created the list', '1 = the user was a paying subscriber when he created the list 0 = the user was not a paying subscriber when he created the list', 'Name of the movie', 'Release year of the movie', 'URL to the movie page on Mubi', 'By default, the title is in English', 'Number of Mubi users who love this movie', 'Image URL to the movie on Mubi', 'ID related to the movie director on Mubi', 'Full Name of the movie director', 'URL to the movie director page on Mubi', 'Rating ID on Mubi', 'URL to the rating on Mubi', 'Rating score ranging from 1 (lowest) to 5 (highest)', 'Timestamp for the movie rating made by the user on Mubi', 'Critic made by the user rating the movie. If value = \"None\", the user did not write a critic when rating the movie.', 'Number of likes related to the critic made by the user rating the movie', 'Number of comments related to the critic made by the user rating the movie'],\n",
        "      ['nominal', 'nominal', 'nominal', 'ratio', 'ordinal', 'ordinal', 'ratio', 'nominal', 'ratio', 'nominal', 'ordinal', 'ordinal', 'nomial', 'nominal', 'nominal', 'nominal', 'nominal', 'nominal', 'ordinal', 'nominal', 'nominal', 'ratio', 'nominal', 'nominal', 'nominal', 'nominal', 'nominal', 'nominal', 'ordinal', 'nominal', 'nominal', 'ratio', 'ratio']],\n",
        "    line_color='darkslategray',\n",
        "    # 2-D list of colors for alternating rows\n",
        "    fill_color = [[rowOddColor,rowEvenColor,rowOddColor, rowEvenColor,rowOddColor]*10],\n",
        "    align = ['left', 'center'],\n",
        "    font = dict(color = 'darkslategray', size = 11)\n",
        "    ))\n",
        "])\n",
        "\n",
        "fig.show()"
      ],
      "execution_count": null,
      "outputs": [
        {
          "output_type": "display_data",
          "data": {
            "text/html": [
              "<html>\n",
              "<head><meta charset=\"utf-8\" /></head>\n",
              "<body>\n",
              "    <div>\n",
              "            <script src=\"https://cdnjs.cloudflare.com/ajax/libs/mathjax/2.7.5/MathJax.js?config=TeX-AMS-MML_SVG\"></script><script type=\"text/javascript\">if (window.MathJax) {MathJax.Hub.Config({SVG: {font: \"STIX-Web\"}});}</script>\n",
              "                <script type=\"text/javascript\">window.PlotlyConfig = {MathJaxConfig: 'local'};</script>\n",
              "        <script src=\"https://cdn.plot.ly/plotly-latest.min.js\"></script>    \n",
              "            <div id=\"90057eea-cf0f-4d50-8d2a-fa30dd3e0f76\" class=\"plotly-graph-div\" style=\"height:525px; width:100%;\"></div>\n",
              "            <script type=\"text/javascript\">\n",
              "                \n",
              "                    window.PLOTLYENV=window.PLOTLYENV || {};\n",
              "                    \n",
              "                if (document.getElementById(\"90057eea-cf0f-4d50-8d2a-fa30dd3e0f76\")) {\n",
              "                    Plotly.newPlot(\n",
              "                        '90057eea-cf0f-4d50-8d2a-fa30dd3e0f76',\n",
              "                        [{\"cells\": {\"align\": [\"left\", \"center\"], \"fill\": {\"color\": [[\"white\", \"lightgrey\", \"white\", \"lightgrey\", \"white\", \"white\", \"lightgrey\", \"white\", \"lightgrey\", \"white\", \"white\", \"lightgrey\", \"white\", \"lightgrey\", \"white\", \"white\", \"lightgrey\", \"white\", \"lightgrey\", \"white\", \"white\", \"lightgrey\", \"white\", \"lightgrey\", \"white\", \"white\", \"lightgrey\", \"white\", \"lightgrey\", \"white\", \"white\", \"lightgrey\", \"white\", \"lightgrey\", \"white\", \"white\", \"lightgrey\", \"white\", \"lightgrey\", \"white\", \"white\", \"lightgrey\", \"white\", \"lightgrey\", \"white\", \"white\", \"lightgrey\", \"white\", \"lightgrey\", \"white\"]]}, \"font\": {\"color\": \"darkslategray\", \"size\": 11}, \"line\": {\"color\": \"darkslategray\"}, \"values\": [[\"user_id\", \"list_id\", \"list_title\", \"list_movie_number\", \"list_update_timestamp_utc\", \"list_creation_timestamp_utc\", \"list_followers\", \"list_url\", \"list_comments\", \"list_description\", \"list_update_date_utc\", \"list_creation_date_utc\", \"user_trialist\", \"user_subscriber\", \"user_avatar_image_url\", \"user_eligible_for_trial\", \"user_has_payment_method\", \"movie_title\", \"movie_release_year\", \"movie_url\", \"movie_title_language\", \"movie_popularity\", \"movie_image_url\", \"director_id\", \"director_name\", \"director_url\", \"rating_id\", \"rating_url\", \"rating_score\", \"rating_timestamp_utc\", \"critic\", \"critic_likes\", \"critic_comments\"], [\"User ID for the user who created the list\", \"List ID on Mubi\", \"Name of the list\", \"Number of movies included in the list\", \"Last update timestamp for the list\", \"Creation timestamp for the list\", \"list_followers\", \"URL to the list\", \"Number of comments on this list\", \"Description of the list\", \"Last update date for the list\", \"Creation date for the list\", \"1 = the user was a trialist when he created the list 0 = the user was not a trialist when he created the list\", \"1 = the user was a subscriber when he created the list 0 = the user was not a subscriber when he created the list\", \"User profile image URL on Mubi\", \"1 = the user was eligible for trial when he created the list 0 = the user was not eligible for trial when he created the list\", \"1 = the user was a paying subscriber when he created the list 0 = the user was not a paying subscriber when he created the list\", \"Name of the movie\", \"Release year of the movie\", \"URL to the movie page on Mubi\", \"By default, the title is in English\", \"Number of Mubi users who love this movie\", \"Image URL to the movie on Mubi\", \"ID related to the movie director on Mubi\", \"Full Name of the movie director\", \"URL to the movie director page on Mubi\", \"Rating ID on Mubi\", \"URL to the rating on Mubi\", \"Rating score ranging from 1 (lowest) to 5 (highest)\", \"Timestamp for the movie rating made by the user on Mubi\", \"Critic made by the user rating the movie. If value = \\\"None\\\", the user did not write a critic when rating the movie.\", \"Number of likes related to the critic made by the user rating the movie\", \"Number of comments related to the critic made by the user rating the movie\"], [\"nominal\", \"nominal\", \"nominal\", \"ratio\", \"ordinal\", \"ordinal\", \"ratio\", \"nominal\", \"ratio\", \"nominal\", \"ordinal\", \"ordinal\", \"nomial\", \"nominal\", \"nominal\", \"nominal\", \"nominal\", \"nominal\", \"ordinal\", \"nominal\", \"nominal\", \"ratio\", \"nominal\", \"nominal\", \"nominal\", \"nominal\", \"nominal\", \"nominal\", \"ordinal\", \"nominal\", \"nominal\", \"ratio\", \"ratio\"]]}, \"header\": {\"align\": [\"left\", \"center\"], \"fill\": {\"color\": \"grey\"}, \"font\": {\"color\": \"white\", \"size\": 12}, \"line\": {\"color\": \"darkslategray\"}, \"values\": [\"<b>Variables</b>\", \"<b>Meanings</b>\", \"<b>Data type</b>\"]}, \"type\": \"table\"}],\n",
              "                        {\"template\": {\"data\": {\"bar\": [{\"error_x\": {\"color\": \"#2a3f5f\"}, \"error_y\": {\"color\": \"#2a3f5f\"}, \"marker\": {\"line\": {\"color\": \"#E5ECF6\", \"width\": 0.5}}, \"type\": \"bar\"}], \"barpolar\": [{\"marker\": {\"line\": {\"color\": \"#E5ECF6\", \"width\": 0.5}}, \"type\": \"barpolar\"}], \"carpet\": [{\"aaxis\": {\"endlinecolor\": \"#2a3f5f\", \"gridcolor\": \"white\", \"linecolor\": \"white\", \"minorgridcolor\": \"white\", \"startlinecolor\": \"#2a3f5f\"}, \"baxis\": {\"endlinecolor\": \"#2a3f5f\", \"gridcolor\": \"white\", \"linecolor\": \"white\", \"minorgridcolor\": \"white\", \"startlinecolor\": \"#2a3f5f\"}, \"type\": \"carpet\"}], \"choropleth\": [{\"colorbar\": {\"outlinewidth\": 0, \"ticks\": \"\"}, \"type\": \"choropleth\"}], \"contour\": [{\"colorbar\": {\"outlinewidth\": 0, \"ticks\": \"\"}, \"colorscale\": [[0.0, \"#0d0887\"], [0.1111111111111111, \"#46039f\"], [0.2222222222222222, \"#7201a8\"], [0.3333333333333333, \"#9c179e\"], [0.4444444444444444, \"#bd3786\"], [0.5555555555555556, \"#d8576b\"], [0.6666666666666666, \"#ed7953\"], [0.7777777777777778, \"#fb9f3a\"], [0.8888888888888888, \"#fdca26\"], [1.0, \"#f0f921\"]], \"type\": \"contour\"}], \"contourcarpet\": [{\"colorbar\": {\"outlinewidth\": 0, \"ticks\": \"\"}, \"type\": \"contourcarpet\"}], \"heatmap\": [{\"colorbar\": {\"outlinewidth\": 0, \"ticks\": \"\"}, \"colorscale\": [[0.0, \"#0d0887\"], [0.1111111111111111, \"#46039f\"], [0.2222222222222222, \"#7201a8\"], [0.3333333333333333, \"#9c179e\"], [0.4444444444444444, \"#bd3786\"], [0.5555555555555556, \"#d8576b\"], [0.6666666666666666, \"#ed7953\"], [0.7777777777777778, \"#fb9f3a\"], [0.8888888888888888, \"#fdca26\"], [1.0, \"#f0f921\"]], \"type\": \"heatmap\"}], \"heatmapgl\": [{\"colorbar\": {\"outlinewidth\": 0, \"ticks\": \"\"}, \"colorscale\": [[0.0, \"#0d0887\"], [0.1111111111111111, \"#46039f\"], [0.2222222222222222, \"#7201a8\"], [0.3333333333333333, \"#9c179e\"], [0.4444444444444444, \"#bd3786\"], [0.5555555555555556, \"#d8576b\"], [0.6666666666666666, \"#ed7953\"], [0.7777777777777778, \"#fb9f3a\"], [0.8888888888888888, \"#fdca26\"], [1.0, \"#f0f921\"]], \"type\": \"heatmapgl\"}], \"histogram\": [{\"marker\": {\"colorbar\": {\"outlinewidth\": 0, \"ticks\": \"\"}}, \"type\": \"histogram\"}], \"histogram2d\": [{\"colorbar\": {\"outlinewidth\": 0, \"ticks\": \"\"}, \"colorscale\": [[0.0, \"#0d0887\"], [0.1111111111111111, \"#46039f\"], [0.2222222222222222, \"#7201a8\"], [0.3333333333333333, \"#9c179e\"], [0.4444444444444444, \"#bd3786\"], [0.5555555555555556, \"#d8576b\"], [0.6666666666666666, \"#ed7953\"], [0.7777777777777778, \"#fb9f3a\"], [0.8888888888888888, \"#fdca26\"], [1.0, \"#f0f921\"]], \"type\": \"histogram2d\"}], \"histogram2dcontour\": [{\"colorbar\": {\"outlinewidth\": 0, \"ticks\": \"\"}, \"colorscale\": [[0.0, \"#0d0887\"], [0.1111111111111111, \"#46039f\"], [0.2222222222222222, \"#7201a8\"], [0.3333333333333333, \"#9c179e\"], [0.4444444444444444, \"#bd3786\"], [0.5555555555555556, \"#d8576b\"], [0.6666666666666666, \"#ed7953\"], [0.7777777777777778, \"#fb9f3a\"], [0.8888888888888888, \"#fdca26\"], [1.0, \"#f0f921\"]], \"type\": \"histogram2dcontour\"}], \"mesh3d\": [{\"colorbar\": {\"outlinewidth\": 0, \"ticks\": \"\"}, \"type\": \"mesh3d\"}], \"parcoords\": [{\"line\": {\"colorbar\": {\"outlinewidth\": 0, \"ticks\": \"\"}}, \"type\": \"parcoords\"}], \"pie\": [{\"automargin\": true, \"type\": \"pie\"}], \"scatter\": [{\"marker\": {\"colorbar\": {\"outlinewidth\": 0, \"ticks\": \"\"}}, \"type\": \"scatter\"}], \"scatter3d\": [{\"line\": {\"colorbar\": {\"outlinewidth\": 0, \"ticks\": \"\"}}, \"marker\": {\"colorbar\": {\"outlinewidth\": 0, \"ticks\": \"\"}}, \"type\": \"scatter3d\"}], \"scattercarpet\": [{\"marker\": {\"colorbar\": {\"outlinewidth\": 0, \"ticks\": \"\"}}, \"type\": \"scattercarpet\"}], \"scattergeo\": [{\"marker\": {\"colorbar\": {\"outlinewidth\": 0, \"ticks\": \"\"}}, \"type\": \"scattergeo\"}], \"scattergl\": [{\"marker\": {\"colorbar\": {\"outlinewidth\": 0, \"ticks\": \"\"}}, \"type\": \"scattergl\"}], \"scattermapbox\": [{\"marker\": {\"colorbar\": {\"outlinewidth\": 0, \"ticks\": \"\"}}, \"type\": \"scattermapbox\"}], \"scatterpolar\": [{\"marker\": {\"colorbar\": {\"outlinewidth\": 0, \"ticks\": \"\"}}, \"type\": \"scatterpolar\"}], \"scatterpolargl\": [{\"marker\": {\"colorbar\": {\"outlinewidth\": 0, \"ticks\": \"\"}}, \"type\": \"scatterpolargl\"}], \"scatterternary\": [{\"marker\": {\"colorbar\": {\"outlinewidth\": 0, \"ticks\": \"\"}}, \"type\": \"scatterternary\"}], \"surface\": [{\"colorbar\": {\"outlinewidth\": 0, \"ticks\": \"\"}, \"colorscale\": [[0.0, \"#0d0887\"], [0.1111111111111111, \"#46039f\"], [0.2222222222222222, \"#7201a8\"], [0.3333333333333333, \"#9c179e\"], [0.4444444444444444, \"#bd3786\"], [0.5555555555555556, \"#d8576b\"], [0.6666666666666666, \"#ed7953\"], [0.7777777777777778, \"#fb9f3a\"], [0.8888888888888888, \"#fdca26\"], [1.0, \"#f0f921\"]], \"type\": \"surface\"}], \"table\": [{\"cells\": {\"fill\": {\"color\": \"#EBF0F8\"}, \"line\": {\"color\": \"white\"}}, \"header\": {\"fill\": {\"color\": \"#C8D4E3\"}, \"line\": {\"color\": \"white\"}}, \"type\": \"table\"}]}, \"layout\": {\"annotationdefaults\": {\"arrowcolor\": \"#2a3f5f\", \"arrowhead\": 0, \"arrowwidth\": 1}, \"coloraxis\": {\"colorbar\": {\"outlinewidth\": 0, \"ticks\": \"\"}}, \"colorscale\": {\"diverging\": [[0, \"#8e0152\"], [0.1, \"#c51b7d\"], [0.2, \"#de77ae\"], [0.3, \"#f1b6da\"], [0.4, \"#fde0ef\"], [0.5, \"#f7f7f7\"], [0.6, \"#e6f5d0\"], [0.7, \"#b8e186\"], [0.8, \"#7fbc41\"], [0.9, \"#4d9221\"], [1, \"#276419\"]], \"sequential\": [[0.0, \"#0d0887\"], [0.1111111111111111, \"#46039f\"], [0.2222222222222222, \"#7201a8\"], [0.3333333333333333, \"#9c179e\"], [0.4444444444444444, \"#bd3786\"], [0.5555555555555556, \"#d8576b\"], [0.6666666666666666, \"#ed7953\"], [0.7777777777777778, \"#fb9f3a\"], [0.8888888888888888, \"#fdca26\"], [1.0, \"#f0f921\"]], \"sequentialminus\": [[0.0, \"#0d0887\"], [0.1111111111111111, \"#46039f\"], [0.2222222222222222, \"#7201a8\"], [0.3333333333333333, \"#9c179e\"], [0.4444444444444444, \"#bd3786\"], [0.5555555555555556, \"#d8576b\"], [0.6666666666666666, \"#ed7953\"], [0.7777777777777778, \"#fb9f3a\"], [0.8888888888888888, \"#fdca26\"], [1.0, \"#f0f921\"]]}, \"colorway\": [\"#636efa\", \"#EF553B\", \"#00cc96\", \"#ab63fa\", \"#FFA15A\", \"#19d3f3\", \"#FF6692\", \"#B6E880\", \"#FF97FF\", \"#FECB52\"], \"font\": {\"color\": \"#2a3f5f\"}, \"geo\": {\"bgcolor\": \"white\", \"lakecolor\": \"white\", \"landcolor\": \"#E5ECF6\", \"showlakes\": true, \"showland\": true, \"subunitcolor\": \"white\"}, \"hoverlabel\": {\"align\": \"left\"}, \"hovermode\": \"closest\", \"mapbox\": {\"style\": \"light\"}, \"paper_bgcolor\": \"white\", \"plot_bgcolor\": \"#E5ECF6\", \"polar\": {\"angularaxis\": {\"gridcolor\": \"white\", \"linecolor\": \"white\", \"ticks\": \"\"}, \"bgcolor\": \"#E5ECF6\", \"radialaxis\": {\"gridcolor\": \"white\", \"linecolor\": \"white\", \"ticks\": \"\"}}, \"scene\": {\"xaxis\": {\"backgroundcolor\": \"#E5ECF6\", \"gridcolor\": \"white\", \"gridwidth\": 2, \"linecolor\": \"white\", \"showbackground\": true, \"ticks\": \"\", \"zerolinecolor\": \"white\"}, \"yaxis\": {\"backgroundcolor\": \"#E5ECF6\", \"gridcolor\": \"white\", \"gridwidth\": 2, \"linecolor\": \"white\", \"showbackground\": true, \"ticks\": \"\", \"zerolinecolor\": \"white\"}, \"zaxis\": {\"backgroundcolor\": \"#E5ECF6\", \"gridcolor\": \"white\", \"gridwidth\": 2, \"linecolor\": \"white\", \"showbackground\": true, \"ticks\": \"\", \"zerolinecolor\": \"white\"}}, \"shapedefaults\": {\"line\": {\"color\": \"#2a3f5f\"}}, \"ternary\": {\"aaxis\": {\"gridcolor\": \"white\", \"linecolor\": \"white\", \"ticks\": \"\"}, \"baxis\": {\"gridcolor\": \"white\", \"linecolor\": \"white\", \"ticks\": \"\"}, \"bgcolor\": \"#E5ECF6\", \"caxis\": {\"gridcolor\": \"white\", \"linecolor\": \"white\", \"ticks\": \"\"}}, \"title\": {\"x\": 0.05}, \"xaxis\": {\"automargin\": true, \"gridcolor\": \"white\", \"linecolor\": \"white\", \"ticks\": \"\", \"title\": {\"standoff\": 15}, \"zerolinecolor\": \"white\", \"zerolinewidth\": 2}, \"yaxis\": {\"automargin\": true, \"gridcolor\": \"white\", \"linecolor\": \"white\", \"ticks\": \"\", \"title\": {\"standoff\": 15}, \"zerolinecolor\": \"white\", \"zerolinewidth\": 2}}}},\n",
              "                        {\"responsive\": true}\n",
              "                    ).then(function(){\n",
              "                            \n",
              "var gd = document.getElementById('90057eea-cf0f-4d50-8d2a-fa30dd3e0f76');\n",
              "var x = new MutationObserver(function (mutations, observer) {{\n",
              "        var display = window.getComputedStyle(gd).display;\n",
              "        if (!display || display === 'none') {{\n",
              "            console.log([gd, 'removed!']);\n",
              "            Plotly.purge(gd);\n",
              "            observer.disconnect();\n",
              "        }}\n",
              "}});\n",
              "\n",
              "// Listen for the removal of the full notebook cells\n",
              "var notebookContainer = gd.closest('#notebook-container');\n",
              "if (notebookContainer) {{\n",
              "    x.observe(notebookContainer, {childList: true});\n",
              "}}\n",
              "\n",
              "// Listen for the clearing of the current output cell\n",
              "var outputEl = gd.closest('.output');\n",
              "if (outputEl) {{\n",
              "    x.observe(outputEl, {childList: true});\n",
              "}}\n",
              "\n",
              "                        })\n",
              "                };\n",
              "                \n",
              "            </script>\n",
              "        </div>\n",
              "</body>\n",
              "</html>"
            ]
          },
          "metadata": {
            "tags": []
          }
        }
      ]
    },
    {
      "cell_type": "markdown",
      "metadata": {
        "id": "uIHO-qchomGp"
      },
      "source": [
        "Now, we will download the dataset 'MUBI SVOD Platform Database for Movie Lovers' from Kaggle to our colab file. Part of the values in the table is printed as NaN because there are no value for that part. For example, NaN in variable critic means there is no critic on that."
      ]
    },
    {
      "cell_type": "code",
      "metadata": {
        "id": "ZfbfScs-ntoQ"
      },
      "source": [
        "!mkdir /root/.kaggle\n",
        "!echo '{\"username\":\"cyndiachen\",\"key\":\"3e5334ac934219d609c5a76a1b169e8d\"}' > /root/.kaggle/kaggle.json"
      ],
      "execution_count": null,
      "outputs": []
    },
    {
      "cell_type": "code",
      "metadata": {
        "colab": {
          "base_uri": "https://localhost:8080/"
        },
        "id": "n8nwqQ2qmsQe",
        "outputId": "927cbe5e-f2fb-4ae7-c3ea-185b79ebd492"
      },
      "source": [
        "!kaggle datasets download -d clementmsika/mubi-sqlite-database-for-movie-lovers"
      ],
      "execution_count": null,
      "outputs": [
        {
          "output_type": "stream",
          "text": [
            "Warning: Your Kaggle API key is readable by other users on this system! To fix this, you can run 'chmod 600 /root/.kaggle/kaggle.json'\n",
            "Downloading mubi-sqlite-database-for-movie-lovers.zip to /content\n",
            "100% 1.12G/1.12G [00:11<00:00, 109MB/s] \n",
            "100% 1.12G/1.12G [00:11<00:00, 107MB/s]\n"
          ],
          "name": "stdout"
        }
      ]
    },
    {
      "cell_type": "code",
      "metadata": {
        "colab": {
          "base_uri": "https://localhost:8080/"
        },
        "id": "5-XOLh2Im6tw",
        "outputId": "c05629f6-c8b7-4b4a-9e39-b6454eaf9e4c"
      },
      "source": [
        "!unzip \\*.zip"
      ],
      "execution_count": null,
      "outputs": [
        {
          "output_type": "stream",
          "text": [
            "Archive:  mubi-sqlite-database-for-movie-lovers.zip\n",
            "  inflating: mubi_db.sqlite          \n",
            "  inflating: mubi_lists_data.csv     \n",
            "  inflating: mubi_lists_user_data.csv  \n",
            "  inflating: mubi_movie_data.csv     \n",
            "  inflating: mubi_ratings_data.csv   \n",
            "  inflating: mubi_ratings_user_data.csv  \n"
          ],
          "name": "stdout"
        }
      ]
    },
    {
      "cell_type": "code",
      "metadata": {
        "colab": {
          "base_uri": "https://localhost:8080/",
          "height": 450
        },
        "id": "uX966dblnYMx",
        "outputId": "782fa9f4-2b2d-4f18-be9c-2a8d4d421428"
      },
      "source": [
        "import pandas as pd\n",
        "d = pd.read_csv('mubi_lists_data.csv')\n",
        "d.head()"
      ],
      "execution_count": null,
      "outputs": [
        {
          "output_type": "execute_result",
          "data": {
            "text/html": [
              "<div>\n",
              "<style scoped>\n",
              "    .dataframe tbody tr th:only-of-type {\n",
              "        vertical-align: middle;\n",
              "    }\n",
              "\n",
              "    .dataframe tbody tr th {\n",
              "        vertical-align: top;\n",
              "    }\n",
              "\n",
              "    .dataframe thead th {\n",
              "        text-align: right;\n",
              "    }\n",
              "</style>\n",
              "<table border=\"1\" class=\"dataframe\">\n",
              "  <thead>\n",
              "    <tr style=\"text-align: right;\">\n",
              "      <th></th>\n",
              "      <th>user_id</th>\n",
              "      <th>list_id</th>\n",
              "      <th>list_title</th>\n",
              "      <th>list_movie_number</th>\n",
              "      <th>list_update_timestamp_utc</th>\n",
              "      <th>list_creation_timestamp_utc</th>\n",
              "      <th>list_followers</th>\n",
              "      <th>list_url</th>\n",
              "      <th>list_comments</th>\n",
              "      <th>list_description</th>\n",
              "      <th>list_cover_image_url</th>\n",
              "      <th>list_first_image_url</th>\n",
              "      <th>list_second_image_url</th>\n",
              "      <th>list_third_image_url</th>\n",
              "    </tr>\n",
              "  </thead>\n",
              "  <tbody>\n",
              "    <tr>\n",
              "      <th>0</th>\n",
              "      <td>85981819</td>\n",
              "      <td>1969</td>\n",
              "      <td>250 Favourite Films</td>\n",
              "      <td>250</td>\n",
              "      <td>2019-11-26 03:20:17</td>\n",
              "      <td>2009-12-18 13:04:48</td>\n",
              "      <td>23</td>\n",
              "      <td>http://mubi.com/lists/250-favourite-films</td>\n",
              "      <td>5</td>\n",
              "      <td>&lt;p&gt;In a loose order, but an order nonetheless....</td>\n",
              "      <td>https://assets.mubicdn.net/images/film/115/ima...</td>\n",
              "      <td>https://assets.mubicdn.net/images/film/115/ima...</td>\n",
              "      <td>https://assets.mubicdn.net/images/film/3664/im...</td>\n",
              "      <td>https://assets.mubicdn.net/images/film/187/ima...</td>\n",
              "    </tr>\n",
              "    <tr>\n",
              "      <th>1</th>\n",
              "      <td>85981819</td>\n",
              "      <td>3946</td>\n",
              "      <td>Films that should be better known</td>\n",
              "      <td>181</td>\n",
              "      <td>2020-05-01 05:54:39</td>\n",
              "      <td>2010-01-30 16:27:27</td>\n",
              "      <td>308</td>\n",
              "      <td>http://mubi.com/lists/films-that-should-be-bet...</td>\n",
              "      <td>11</td>\n",
              "      <td>&lt;p&gt;These are the films that need to be in more...</td>\n",
              "      <td>https://assets.mubicdn.net/images/film/20780/i...</td>\n",
              "      <td>https://assets.mubicdn.net/images/film/20780/i...</td>\n",
              "      <td>https://assets.mubicdn.net/images/film/19167/i...</td>\n",
              "      <td>https://assets.mubicdn.net/images/film/23056/i...</td>\n",
              "    </tr>\n",
              "    <tr>\n",
              "      <th>2</th>\n",
              "      <td>85981819</td>\n",
              "      <td>6683</td>\n",
              "      <td>Films by country (completely stolen from Glemaud)</td>\n",
              "      <td>179</td>\n",
              "      <td>2020-04-12 08:31:35</td>\n",
              "      <td>2010-03-31 08:55:10</td>\n",
              "      <td>32</td>\n",
              "      <td>http://mubi.com/lists/films-by-country-complet...</td>\n",
              "      <td>5</td>\n",
              "      <td>&lt;p&gt;Being a compulsive listmaker, cinéphile and...</td>\n",
              "      <td>https://assets.mubicdn.net/images/film/40676/i...</td>\n",
              "      <td>https://assets.mubicdn.net/images/film/40676/i...</td>\n",
              "      <td>https://assets.mubicdn.net/images/film/99891/i...</td>\n",
              "      <td>https://assets.mubicdn.net/images/film/32597/i...</td>\n",
              "    </tr>\n",
              "    <tr>\n",
              "      <th>3</th>\n",
              "      <td>85981819</td>\n",
              "      <td>8865</td>\n",
              "      <td>Play it cool.</td>\n",
              "      <td>56</td>\n",
              "      <td>2018-12-14 14:53:41</td>\n",
              "      <td>2010-05-10 08:18:40</td>\n",
              "      <td>10</td>\n",
              "      <td>http://mubi.com/lists/play-it-cool</td>\n",
              "      <td>1</td>\n",
              "      <td>&lt;p&gt;A work in progress…&lt;/p&gt;\\n&lt;p&gt;This is intende...</td>\n",
              "      <td>https://assets.mubicdn.net/images/film/11573/i...</td>\n",
              "      <td>https://assets.mubicdn.net/images/film/11573/i...</td>\n",
              "      <td>https://assets.mubicdn.net/images/film/25451/i...</td>\n",
              "      <td>https://assets.mubicdn.net/images/film/1418/im...</td>\n",
              "    </tr>\n",
              "    <tr>\n",
              "      <th>4</th>\n",
              "      <td>85981819</td>\n",
              "      <td>13796</td>\n",
              "      <td>Cinemalism (work in progress)</td>\n",
              "      <td>121</td>\n",
              "      <td>2019-11-26 03:20:23</td>\n",
              "      <td>2010-08-25 14:23:56</td>\n",
              "      <td>43</td>\n",
              "      <td>http://mubi.com/lists/cinemalism-work-in-progress</td>\n",
              "      <td>3</td>\n",
              "      <td>&lt;p&gt;An ongoing list collecting the best in mini...</td>\n",
              "      <td>https://assets.mubicdn.net/images/film/113749/...</td>\n",
              "      <td>https://assets.mubicdn.net/images/film/113749/...</td>\n",
              "      <td>https://assets.mubicdn.net/images/film/160533/...</td>\n",
              "      <td>https://assets.mubicdn.net/images/film/95112/i...</td>\n",
              "    </tr>\n",
              "  </tbody>\n",
              "</table>\n",
              "</div>"
            ],
            "text/plain": [
              "    user_id  ...                               list_third_image_url\n",
              "0  85981819  ...  https://assets.mubicdn.net/images/film/187/ima...\n",
              "1  85981819  ...  https://assets.mubicdn.net/images/film/23056/i...\n",
              "2  85981819  ...  https://assets.mubicdn.net/images/film/32597/i...\n",
              "3  85981819  ...  https://assets.mubicdn.net/images/film/1418/im...\n",
              "4  85981819  ...  https://assets.mubicdn.net/images/film/95112/i...\n",
              "\n",
              "[5 rows x 14 columns]"
            ]
          },
          "metadata": {
            "tags": []
          },
          "execution_count": 6
        }
      ]
    },
    {
      "cell_type": "code",
      "metadata": {
        "colab": {
          "base_uri": "https://localhost:8080/"
        },
        "id": "TuBJ3EdQsC3O",
        "outputId": "34f1e543-383c-4be5-fd09-675234bb8b7e"
      },
      "source": [
        "print(d.columns)"
      ],
      "execution_count": null,
      "outputs": [
        {
          "output_type": "stream",
          "text": [
            "Index(['user_id', 'list_id', 'list_title', 'list_movie_number',\n",
            "       'list_update_timestamp_utc', 'list_creation_timestamp_utc',\n",
            "       'list_followers', 'list_url', 'list_comments', 'list_description',\n",
            "       'list_cover_image_url', 'list_first_image_url', 'list_second_image_url',\n",
            "       'list_third_image_url'],\n",
            "      dtype='object')\n"
          ],
          "name": "stdout"
        }
      ]
    },
    {
      "cell_type": "markdown",
      "metadata": {
        "id": "m-RxEdEy0GsT"
      },
      "source": [
        "Note: In the pure csv files, variables like 'user_eligible_for_trial' whose original values are 0 and 1 changed. 0 becomes False and 1 becomes True in the dataframes."
      ]
    },
    {
      "cell_type": "code",
      "metadata": {
        "colab": {
          "base_uri": "https://localhost:8080/",
          "height": 215
        },
        "id": "UXdBQDVWtZHd",
        "outputId": "624d1647-7388-44c6-a7be-7b5d0ecc75b7"
      },
      "source": [
        "import pandas as pd\n",
        "d1 = pd.read_csv('mubi_lists_user_data.csv')\n",
        "d1.head()"
      ],
      "execution_count": null,
      "outputs": [
        {
          "output_type": "execute_result",
          "data": {
            "text/html": [
              "<div>\n",
              "<style scoped>\n",
              "    .dataframe tbody tr th:only-of-type {\n",
              "        vertical-align: middle;\n",
              "    }\n",
              "\n",
              "    .dataframe tbody tr th {\n",
              "        vertical-align: top;\n",
              "    }\n",
              "\n",
              "    .dataframe thead th {\n",
              "        text-align: right;\n",
              "    }\n",
              "</style>\n",
              "<table border=\"1\" class=\"dataframe\">\n",
              "  <thead>\n",
              "    <tr style=\"text-align: right;\">\n",
              "      <th></th>\n",
              "      <th>user_id</th>\n",
              "      <th>list_id</th>\n",
              "      <th>list_update_date_utc</th>\n",
              "      <th>list_creation_date_utc</th>\n",
              "      <th>user_trialist</th>\n",
              "      <th>user_subscriber</th>\n",
              "      <th>user_avatar_image_url</th>\n",
              "      <th>user_cover_image_url</th>\n",
              "      <th>user_eligible_for_trial</th>\n",
              "      <th>user_has_payment_method</th>\n",
              "    </tr>\n",
              "  </thead>\n",
              "  <tbody>\n",
              "    <tr>\n",
              "      <th>0</th>\n",
              "      <td>85981819</td>\n",
              "      <td>1969</td>\n",
              "      <td>2019-11-26</td>\n",
              "      <td>2009-12-18</td>\n",
              "      <td>True</td>\n",
              "      <td>True</td>\n",
              "      <td>https://assets.mubicdn.net/images/avatars/7498...</td>\n",
              "      <td>NaN</td>\n",
              "      <td>False</td>\n",
              "      <td>True</td>\n",
              "    </tr>\n",
              "    <tr>\n",
              "      <th>1</th>\n",
              "      <td>85981819</td>\n",
              "      <td>3946</td>\n",
              "      <td>2020-05-01</td>\n",
              "      <td>2010-01-30</td>\n",
              "      <td>True</td>\n",
              "      <td>True</td>\n",
              "      <td>https://assets.mubicdn.net/images/avatars/7498...</td>\n",
              "      <td>NaN</td>\n",
              "      <td>False</td>\n",
              "      <td>True</td>\n",
              "    </tr>\n",
              "    <tr>\n",
              "      <th>2</th>\n",
              "      <td>85981819</td>\n",
              "      <td>6683</td>\n",
              "      <td>2020-04-12</td>\n",
              "      <td>2010-03-31</td>\n",
              "      <td>True</td>\n",
              "      <td>True</td>\n",
              "      <td>https://assets.mubicdn.net/images/avatars/7498...</td>\n",
              "      <td>NaN</td>\n",
              "      <td>False</td>\n",
              "      <td>True</td>\n",
              "    </tr>\n",
              "    <tr>\n",
              "      <th>3</th>\n",
              "      <td>85981819</td>\n",
              "      <td>8865</td>\n",
              "      <td>2018-12-14</td>\n",
              "      <td>2010-05-10</td>\n",
              "      <td>True</td>\n",
              "      <td>True</td>\n",
              "      <td>https://assets.mubicdn.net/images/avatars/7498...</td>\n",
              "      <td>NaN</td>\n",
              "      <td>False</td>\n",
              "      <td>True</td>\n",
              "    </tr>\n",
              "    <tr>\n",
              "      <th>4</th>\n",
              "      <td>85981819</td>\n",
              "      <td>13796</td>\n",
              "      <td>2019-11-26</td>\n",
              "      <td>2010-08-25</td>\n",
              "      <td>True</td>\n",
              "      <td>True</td>\n",
              "      <td>https://assets.mubicdn.net/images/avatars/7498...</td>\n",
              "      <td>NaN</td>\n",
              "      <td>False</td>\n",
              "      <td>True</td>\n",
              "    </tr>\n",
              "  </tbody>\n",
              "</table>\n",
              "</div>"
            ],
            "text/plain": [
              "    user_id  list_id  ... user_eligible_for_trial user_has_payment_method\n",
              "0  85981819     1969  ...                   False                    True\n",
              "1  85981819     3946  ...                   False                    True\n",
              "2  85981819     6683  ...                   False                    True\n",
              "3  85981819     8865  ...                   False                    True\n",
              "4  85981819    13796  ...                   False                    True\n",
              "\n",
              "[5 rows x 10 columns]"
            ]
          },
          "metadata": {
            "tags": []
          },
          "execution_count": 8
        }
      ]
    },
    {
      "cell_type": "code",
      "metadata": {
        "colab": {
          "base_uri": "https://localhost:8080/"
        },
        "id": "D5CF5muutk3F",
        "outputId": "75308d04-b146-4364-be4c-79f03b6bd247"
      },
      "source": [
        "print(d1.columns)"
      ],
      "execution_count": null,
      "outputs": [
        {
          "output_type": "stream",
          "text": [
            "Index(['user_id', 'list_id', 'list_update_date_utc', 'list_creation_date_utc',\n",
            "       'user_trialist', 'user_subscriber', 'user_avatar_image_url',\n",
            "       'user_cover_image_url', 'user_eligible_for_trial',\n",
            "       'user_has_payment_method'],\n",
            "      dtype='object')\n"
          ],
          "name": "stdout"
        }
      ]
    },
    {
      "cell_type": "code",
      "metadata": {
        "colab": {
          "base_uri": "https://localhost:8080/",
          "height": 299
        },
        "id": "gChML0fouYMN",
        "outputId": "4f0382ed-4a72-4de8-d573-fc7f5d8400c4"
      },
      "source": [
        "d2 = pd.read_csv('mubi_movie_data.csv')\n",
        "d2.head()"
      ],
      "execution_count": null,
      "outputs": [
        {
          "output_type": "execute_result",
          "data": {
            "text/html": [
              "<div>\n",
              "<style scoped>\n",
              "    .dataframe tbody tr th:only-of-type {\n",
              "        vertical-align: middle;\n",
              "    }\n",
              "\n",
              "    .dataframe tbody tr th {\n",
              "        vertical-align: top;\n",
              "    }\n",
              "\n",
              "    .dataframe thead th {\n",
              "        text-align: right;\n",
              "    }\n",
              "</style>\n",
              "<table border=\"1\" class=\"dataframe\">\n",
              "  <thead>\n",
              "    <tr style=\"text-align: right;\">\n",
              "      <th></th>\n",
              "      <th>movie_id</th>\n",
              "      <th>movie_title</th>\n",
              "      <th>movie_release_year</th>\n",
              "      <th>movie_url</th>\n",
              "      <th>movie_title_language</th>\n",
              "      <th>movie_popularity</th>\n",
              "      <th>movie_image_url</th>\n",
              "      <th>director_id</th>\n",
              "      <th>director_name</th>\n",
              "      <th>director_url</th>\n",
              "    </tr>\n",
              "  </thead>\n",
              "  <tbody>\n",
              "    <tr>\n",
              "      <th>0</th>\n",
              "      <td>1</td>\n",
              "      <td>La Antena</td>\n",
              "      <td>2007.0</td>\n",
              "      <td>http://mubi.com/films/la-antena</td>\n",
              "      <td>en</td>\n",
              "      <td>105</td>\n",
              "      <td>https://images.mubicdn.net/images/film/1/cache...</td>\n",
              "      <td>131</td>\n",
              "      <td>Esteban Sapir</td>\n",
              "      <td>http://mubi.com/cast/esteban-sapir</td>\n",
              "    </tr>\n",
              "    <tr>\n",
              "      <th>1</th>\n",
              "      <td>2</td>\n",
              "      <td>Elementary Particles</td>\n",
              "      <td>2006.0</td>\n",
              "      <td>http://mubi.com/films/elementary-particles</td>\n",
              "      <td>en</td>\n",
              "      <td>23</td>\n",
              "      <td>https://images.mubicdn.net/images/film/2/cache...</td>\n",
              "      <td>73</td>\n",
              "      <td>Oskar Roehler</td>\n",
              "      <td>http://mubi.com/cast/oskar-roehler</td>\n",
              "    </tr>\n",
              "    <tr>\n",
              "      <th>2</th>\n",
              "      <td>3</td>\n",
              "      <td>It's Winter</td>\n",
              "      <td>2006.0</td>\n",
              "      <td>http://mubi.com/films/its-winter</td>\n",
              "      <td>en</td>\n",
              "      <td>21</td>\n",
              "      <td>https://images.mubicdn.net/images/film/3/cache...</td>\n",
              "      <td>82</td>\n",
              "      <td>Rafi Pitts</td>\n",
              "      <td>http://mubi.com/cast/rafi-pitts</td>\n",
              "    </tr>\n",
              "    <tr>\n",
              "      <th>3</th>\n",
              "      <td>4</td>\n",
              "      <td>Kirikou and the Wild Beasts</td>\n",
              "      <td>2005.0</td>\n",
              "      <td>http://mubi.com/films/kirikou-and-the-wild-beasts</td>\n",
              "      <td>en</td>\n",
              "      <td>46</td>\n",
              "      <td>https://images.mubicdn.net/images/film/4/cache...</td>\n",
              "      <td>89, 90</td>\n",
              "      <td>Michel Ocelot, Bénédicte Galup</td>\n",
              "      <td>http://mubi.com/cast/michel-ocelot, http://mub...</td>\n",
              "    </tr>\n",
              "    <tr>\n",
              "      <th>4</th>\n",
              "      <td>5</td>\n",
              "      <td>Padre Nuestro</td>\n",
              "      <td>2007.0</td>\n",
              "      <td>http://mubi.com/films/padre-nuestro</td>\n",
              "      <td>en</td>\n",
              "      <td>7</td>\n",
              "      <td>https://images.mubicdn.net/images/film/5/cache...</td>\n",
              "      <td>92</td>\n",
              "      <td>Christopher Zalla</td>\n",
              "      <td>http://mubi.com/cast/christopher-zalla</td>\n",
              "    </tr>\n",
              "  </tbody>\n",
              "</table>\n",
              "</div>"
            ],
            "text/plain": [
              "   movie_id  ...                                       director_url\n",
              "0         1  ...                 http://mubi.com/cast/esteban-sapir\n",
              "1         2  ...                 http://mubi.com/cast/oskar-roehler\n",
              "2         3  ...                    http://mubi.com/cast/rafi-pitts\n",
              "3         4  ...  http://mubi.com/cast/michel-ocelot, http://mub...\n",
              "4         5  ...             http://mubi.com/cast/christopher-zalla\n",
              "\n",
              "[5 rows x 10 columns]"
            ]
          },
          "metadata": {
            "tags": []
          },
          "execution_count": 10
        }
      ]
    },
    {
      "cell_type": "code",
      "metadata": {
        "colab": {
          "base_uri": "https://localhost:8080/"
        },
        "id": "B-DbB7-_uiKd",
        "outputId": "2b74f881-7fcc-44e3-a8e8-eb29df21cb0b"
      },
      "source": [
        "print(d2.columns)"
      ],
      "execution_count": null,
      "outputs": [
        {
          "output_type": "stream",
          "text": [
            "Index(['movie_id', 'movie_title', 'movie_release_year', 'movie_url',\n",
            "       'movie_title_language', 'movie_popularity', 'movie_image_url',\n",
            "       'director_id', 'director_name', 'director_url'],\n",
            "      dtype='object')\n"
          ],
          "name": "stdout"
        }
      ]
    },
    {
      "cell_type": "code",
      "metadata": {
        "id": "8l2qmVAPvHct",
        "colab": {
          "base_uri": "https://localhost:8080/",
          "height": 417
        },
        "outputId": "f9a2eb4b-91d6-4563-87fa-22b5a5c605fa"
      },
      "source": [
        "d3 = pd.read_csv('mubi_ratings_data.csv')\n",
        "d3.head()"
      ],
      "execution_count": null,
      "outputs": [
        {
          "output_type": "stream",
          "text": [
            "/usr/local/lib/python3.6/dist-packages/IPython/core/interactiveshell.py:2718: DtypeWarning:\n",
            "\n",
            "Columns (9,10,11,12) have mixed types.Specify dtype option on import or set low_memory=False.\n",
            "\n"
          ],
          "name": "stderr"
        },
        {
          "output_type": "execute_result",
          "data": {
            "text/html": [
              "<div>\n",
              "<style scoped>\n",
              "    .dataframe tbody tr th:only-of-type {\n",
              "        vertical-align: middle;\n",
              "    }\n",
              "\n",
              "    .dataframe tbody tr th {\n",
              "        vertical-align: top;\n",
              "    }\n",
              "\n",
              "    .dataframe thead th {\n",
              "        text-align: right;\n",
              "    }\n",
              "</style>\n",
              "<table border=\"1\" class=\"dataframe\">\n",
              "  <thead>\n",
              "    <tr style=\"text-align: right;\">\n",
              "      <th></th>\n",
              "      <th>movie_id</th>\n",
              "      <th>rating_id</th>\n",
              "      <th>rating_url</th>\n",
              "      <th>rating_score</th>\n",
              "      <th>rating_timestamp_utc</th>\n",
              "      <th>critic</th>\n",
              "      <th>critic_likes</th>\n",
              "      <th>critic_comments</th>\n",
              "      <th>user_id</th>\n",
              "      <th>user_trialist</th>\n",
              "      <th>user_subscriber</th>\n",
              "      <th>user_eligible_for_trial</th>\n",
              "      <th>user_has_payment_method</th>\n",
              "    </tr>\n",
              "  </thead>\n",
              "  <tbody>\n",
              "    <tr>\n",
              "      <th>0</th>\n",
              "      <td>1066</td>\n",
              "      <td>15610495</td>\n",
              "      <td>http://mubi.com/films/pavee-lackeen-the-travel...</td>\n",
              "      <td>3.0</td>\n",
              "      <td>2017-06-10 12:38:33</td>\n",
              "      <td>NaN</td>\n",
              "      <td>0</td>\n",
              "      <td>0</td>\n",
              "      <td>41579158</td>\n",
              "      <td>False</td>\n",
              "      <td>False</td>\n",
              "      <td>True</td>\n",
              "      <td>False</td>\n",
              "    </tr>\n",
              "    <tr>\n",
              "      <th>1</th>\n",
              "      <td>1066</td>\n",
              "      <td>10704606</td>\n",
              "      <td>http://mubi.com/films/pavee-lackeen-the-travel...</td>\n",
              "      <td>2.0</td>\n",
              "      <td>2014-08-15 23:42:31</td>\n",
              "      <td>NaN</td>\n",
              "      <td>0</td>\n",
              "      <td>0</td>\n",
              "      <td>85981819</td>\n",
              "      <td>True</td>\n",
              "      <td>True</td>\n",
              "      <td>False</td>\n",
              "      <td>True</td>\n",
              "    </tr>\n",
              "    <tr>\n",
              "      <th>2</th>\n",
              "      <td>1066</td>\n",
              "      <td>10177114</td>\n",
              "      <td>http://mubi.com/films/pavee-lackeen-the-travel...</td>\n",
              "      <td>2.0</td>\n",
              "      <td>2014-01-30 13:21:57</td>\n",
              "      <td>NaN</td>\n",
              "      <td>0</td>\n",
              "      <td>0</td>\n",
              "      <td>4208563</td>\n",
              "      <td>False</td>\n",
              "      <td>False</td>\n",
              "      <td>True</td>\n",
              "      <td>True</td>\n",
              "    </tr>\n",
              "    <tr>\n",
              "      <th>3</th>\n",
              "      <td>1066</td>\n",
              "      <td>10130280</td>\n",
              "      <td>http://mubi.com/films/pavee-lackeen-the-travel...</td>\n",
              "      <td>3.0</td>\n",
              "      <td>2014-01-19 01:04:23</td>\n",
              "      <td>I am a bit disappointed by this documentary fi...</td>\n",
              "      <td>0</td>\n",
              "      <td>0</td>\n",
              "      <td>9820140</td>\n",
              "      <td>False</td>\n",
              "      <td>False</td>\n",
              "      <td>True</td>\n",
              "      <td>False</td>\n",
              "    </tr>\n",
              "    <tr>\n",
              "      <th>4</th>\n",
              "      <td>1066</td>\n",
              "      <td>8357049</td>\n",
              "      <td>http://mubi.com/films/pavee-lackeen-the-travel...</td>\n",
              "      <td>4.0</td>\n",
              "      <td>2012-10-02 18:28:47</td>\n",
              "      <td>NaN</td>\n",
              "      <td>0</td>\n",
              "      <td>0</td>\n",
              "      <td>68654088</td>\n",
              "      <td>False</td>\n",
              "      <td>False</td>\n",
              "      <td>True</td>\n",
              "      <td>True</td>\n",
              "    </tr>\n",
              "  </tbody>\n",
              "</table>\n",
              "</div>"
            ],
            "text/plain": [
              "   movie_id  rating_id  ... user_eligible_for_trial  user_has_payment_method\n",
              "0      1066   15610495  ...                    True                    False\n",
              "1      1066   10704606  ...                   False                     True\n",
              "2      1066   10177114  ...                    True                     True\n",
              "3      1066   10130280  ...                    True                    False\n",
              "4      1066    8357049  ...                    True                     True\n",
              "\n",
              "[5 rows x 13 columns]"
            ]
          },
          "metadata": {
            "tags": []
          },
          "execution_count": 13
        }
      ]
    },
    {
      "cell_type": "code",
      "metadata": {
        "colab": {
          "background_save": true
        },
        "id": "pK8Wmyg0vHSs",
        "outputId": "34040150-bfac-40be-d3f0-40f4ff26598e"
      },
      "source": [
        "print(d3.columns)"
      ],
      "execution_count": null,
      "outputs": [
        {
          "output_type": "stream",
          "text": [
            "Index(['movie_id', 'rating_id', 'rating_url', 'rating_score',\n",
            "       'rating_timestamp_utc', 'critic', 'critic_likes', 'critic_comments',\n",
            "       'user_id', 'user_trialist', 'user_subscriber',\n",
            "       'user_eligible_for_trial', 'user_has_payment_method'],\n",
            "      dtype='object')\n"
          ],
          "name": "stdout"
        }
      ]
    },
    {
      "cell_type": "code",
      "metadata": {
        "colab": {
          "base_uri": "https://localhost:8080/",
          "height": 279
        },
        "id": "phwbE7WrzJG-",
        "outputId": "8602cb48-096e-49e6-948d-91c54cd1fb48"
      },
      "source": [
        "d4 = pd.read_csv('mubi_ratings_user_data.csv')\n",
        "d4.head()"
      ],
      "execution_count": null,
      "outputs": [
        {
          "output_type": "stream",
          "text": [
            "/usr/local/lib/python3.6/dist-packages/IPython/core/interactiveshell.py:2718: DtypeWarning:\n",
            "\n",
            "Columns (2,3,6,7) have mixed types.Specify dtype option on import or set low_memory=False.\n",
            "\n"
          ],
          "name": "stderr"
        },
        {
          "output_type": "execute_result",
          "data": {
            "text/html": [
              "<div>\n",
              "<style scoped>\n",
              "    .dataframe tbody tr th:only-of-type {\n",
              "        vertical-align: middle;\n",
              "    }\n",
              "\n",
              "    .dataframe tbody tr th {\n",
              "        vertical-align: top;\n",
              "    }\n",
              "\n",
              "    .dataframe thead th {\n",
              "        text-align: right;\n",
              "    }\n",
              "</style>\n",
              "<table border=\"1\" class=\"dataframe\">\n",
              "  <thead>\n",
              "    <tr style=\"text-align: right;\">\n",
              "      <th></th>\n",
              "      <th>user_id</th>\n",
              "      <th>rating_date_utc</th>\n",
              "      <th>user_trialist</th>\n",
              "      <th>user_subscriber</th>\n",
              "      <th>user_avatar_image_url</th>\n",
              "      <th>user_cover_image_url</th>\n",
              "      <th>user_eligible_for_trial</th>\n",
              "      <th>user_has_payment_method</th>\n",
              "    </tr>\n",
              "  </thead>\n",
              "  <tbody>\n",
              "    <tr>\n",
              "      <th>0</th>\n",
              "      <td>41579158</td>\n",
              "      <td>2017-06-10</td>\n",
              "      <td>False</td>\n",
              "      <td>False</td>\n",
              "      <td>https://assets.mubicdn.net/images/avatars/7428...</td>\n",
              "      <td>NaN</td>\n",
              "      <td>True</td>\n",
              "      <td>False</td>\n",
              "    </tr>\n",
              "    <tr>\n",
              "      <th>1</th>\n",
              "      <td>68654088</td>\n",
              "      <td>2012-10-02</td>\n",
              "      <td>False</td>\n",
              "      <td>False</td>\n",
              "      <td>https://assets.mubicdn.net/images/avatars/2771...</td>\n",
              "      <td>NaN</td>\n",
              "      <td>True</td>\n",
              "      <td>True</td>\n",
              "    </tr>\n",
              "    <tr>\n",
              "      <th>2</th>\n",
              "      <td>84114365</td>\n",
              "      <td>2010-12-25</td>\n",
              "      <td>False</td>\n",
              "      <td>False</td>\n",
              "      <td>https://assets.mubicdn.net/images/avatars/1808...</td>\n",
              "      <td>NaN</td>\n",
              "      <td>True</td>\n",
              "      <td>False</td>\n",
              "    </tr>\n",
              "    <tr>\n",
              "      <th>3</th>\n",
              "      <td>29755671</td>\n",
              "      <td>2010-11-15</td>\n",
              "      <td>False</td>\n",
              "      <td>False</td>\n",
              "      <td>//mubi.com/assets/placeholders/avatar-c68833ee...</td>\n",
              "      <td>NaN</td>\n",
              "      <td>True</td>\n",
              "      <td>False</td>\n",
              "    </tr>\n",
              "    <tr>\n",
              "      <th>4</th>\n",
              "      <td>93302487</td>\n",
              "      <td>2010-01-05</td>\n",
              "      <td>False</td>\n",
              "      <td>False</td>\n",
              "      <td>https://assets.mubicdn.net/images/avatars/1224...</td>\n",
              "      <td>NaN</td>\n",
              "      <td>True</td>\n",
              "      <td>False</td>\n",
              "    </tr>\n",
              "  </tbody>\n",
              "</table>\n",
              "</div>"
            ],
            "text/plain": [
              "    user_id rating_date_utc  ... user_eligible_for_trial user_has_payment_method\n",
              "0  41579158      2017-06-10  ...                    True                   False\n",
              "1  68654088      2012-10-02  ...                    True                    True\n",
              "2  84114365      2010-12-25  ...                    True                   False\n",
              "3  29755671      2010-11-15  ...                    True                   False\n",
              "4  93302487      2010-01-05  ...                    True                   False\n",
              "\n",
              "[5 rows x 8 columns]"
            ]
          },
          "metadata": {
            "tags": []
          },
          "execution_count": 22
        }
      ]
    },
    {
      "cell_type": "code",
      "metadata": {
        "colab": {
          "background_save": true
        },
        "id": "RZka-BZgzJB2",
        "outputId": "c9c2f063-c1ee-4d89-964d-0fec9698efc9"
      },
      "source": [
        "print(d4.columns)"
      ],
      "execution_count": null,
      "outputs": [
        {
          "output_type": "stream",
          "text": [
            "Index(['user_id', 'rating_date_utc', 'user_trialist', 'user_subscriber',\n",
            "       'user_avatar_image_url', 'user_cover_image_url',\n",
            "       'user_eligible_for_trial', 'user_has_payment_method'],\n",
            "      dtype='object')\n"
          ],
          "name": "stdout"
        }
      ]
    },
    {
      "cell_type": "markdown",
      "metadata": {
        "id": "h2Dj9r28qSE9"
      },
      "source": [
        "# **3. Data Preparation**"
      ]
    },
    {
      "cell_type": "markdown",
      "metadata": {
        "id": "OnWGozEJzqWI"
      },
      "source": [
        "Our group deleted all the URL link columns because they are not helpful with data analysis. "
      ]
    },
    {
      "cell_type": "code",
      "metadata": {
        "colab": {
          "base_uri": "https://localhost:8080/",
          "height": 397
        },
        "id": "HkhXesuSqT7U",
        "outputId": "4ad4b4f6-409d-4bf6-89d9-5b05839c49b2"
      },
      "source": [
        "#delete list_url, list_cover_image_url, list_first_image_url, list_second_image_url, list_third_image_url columns\n",
        "del d['list_url']\n",
        "del d['list_cover_image_url']\n",
        "del d['list_first_image_url']\n",
        "del d['list_second_image_url']\n",
        "del d['list_third_image_url']\n",
        "d.head()"
      ],
      "execution_count": null,
      "outputs": [
        {
          "output_type": "execute_result",
          "data": {
            "text/html": [
              "<div>\n",
              "<style scoped>\n",
              "    .dataframe tbody tr th:only-of-type {\n",
              "        vertical-align: middle;\n",
              "    }\n",
              "\n",
              "    .dataframe tbody tr th {\n",
              "        vertical-align: top;\n",
              "    }\n",
              "\n",
              "    .dataframe thead th {\n",
              "        text-align: right;\n",
              "    }\n",
              "</style>\n",
              "<table border=\"1\" class=\"dataframe\">\n",
              "  <thead>\n",
              "    <tr style=\"text-align: right;\">\n",
              "      <th></th>\n",
              "      <th>user_id</th>\n",
              "      <th>list_id</th>\n",
              "      <th>list_title</th>\n",
              "      <th>list_movie_number</th>\n",
              "      <th>list_update_timestamp_utc</th>\n",
              "      <th>list_creation_timestamp_utc</th>\n",
              "      <th>list_followers</th>\n",
              "      <th>list_comments</th>\n",
              "      <th>list_description</th>\n",
              "    </tr>\n",
              "  </thead>\n",
              "  <tbody>\n",
              "    <tr>\n",
              "      <th>0</th>\n",
              "      <td>85981819</td>\n",
              "      <td>1969</td>\n",
              "      <td>250 Favourite Films</td>\n",
              "      <td>250</td>\n",
              "      <td>2019-11-26 03:20:17</td>\n",
              "      <td>2009-12-18 13:04:48</td>\n",
              "      <td>23</td>\n",
              "      <td>5</td>\n",
              "      <td>&lt;p&gt;In a loose order, but an order nonetheless....</td>\n",
              "    </tr>\n",
              "    <tr>\n",
              "      <th>1</th>\n",
              "      <td>85981819</td>\n",
              "      <td>3946</td>\n",
              "      <td>Films that should be better known</td>\n",
              "      <td>181</td>\n",
              "      <td>2020-05-01 05:54:39</td>\n",
              "      <td>2010-01-30 16:27:27</td>\n",
              "      <td>308</td>\n",
              "      <td>11</td>\n",
              "      <td>&lt;p&gt;These are the films that need to be in more...</td>\n",
              "    </tr>\n",
              "    <tr>\n",
              "      <th>2</th>\n",
              "      <td>85981819</td>\n",
              "      <td>6683</td>\n",
              "      <td>Films by country (completely stolen from Glemaud)</td>\n",
              "      <td>179</td>\n",
              "      <td>2020-04-12 08:31:35</td>\n",
              "      <td>2010-03-31 08:55:10</td>\n",
              "      <td>32</td>\n",
              "      <td>5</td>\n",
              "      <td>&lt;p&gt;Being a compulsive listmaker, cinéphile and...</td>\n",
              "    </tr>\n",
              "    <tr>\n",
              "      <th>3</th>\n",
              "      <td>85981819</td>\n",
              "      <td>8865</td>\n",
              "      <td>Play it cool.</td>\n",
              "      <td>56</td>\n",
              "      <td>2018-12-14 14:53:41</td>\n",
              "      <td>2010-05-10 08:18:40</td>\n",
              "      <td>10</td>\n",
              "      <td>1</td>\n",
              "      <td>&lt;p&gt;A work in progress…&lt;/p&gt;\\n&lt;p&gt;This is intende...</td>\n",
              "    </tr>\n",
              "    <tr>\n",
              "      <th>4</th>\n",
              "      <td>85981819</td>\n",
              "      <td>13796</td>\n",
              "      <td>Cinemalism (work in progress)</td>\n",
              "      <td>121</td>\n",
              "      <td>2019-11-26 03:20:23</td>\n",
              "      <td>2010-08-25 14:23:56</td>\n",
              "      <td>43</td>\n",
              "      <td>3</td>\n",
              "      <td>&lt;p&gt;An ongoing list collecting the best in mini...</td>\n",
              "    </tr>\n",
              "  </tbody>\n",
              "</table>\n",
              "</div>"
            ],
            "text/plain": [
              "    user_id  ...                                   list_description\n",
              "0  85981819  ...  <p>In a loose order, but an order nonetheless....\n",
              "1  85981819  ...  <p>These are the films that need to be in more...\n",
              "2  85981819  ...  <p>Being a compulsive listmaker, cinéphile and...\n",
              "3  85981819  ...  <p>A work in progress…</p>\\n<p>This is intende...\n",
              "4  85981819  ...  <p>An ongoing list collecting the best in mini...\n",
              "\n",
              "[5 rows x 9 columns]"
            ]
          },
          "metadata": {
            "tags": []
          },
          "execution_count": 17
        }
      ]
    },
    {
      "cell_type": "code",
      "metadata": {
        "colab": {
          "background_save": true
        },
        "id": "lssCUWGM57uZ",
        "outputId": "77fdb9fb-38f5-47a2-943b-eb7a0726b86b"
      },
      "source": [
        "print(d)"
      ],
      "execution_count": null,
      "outputs": [
        {
          "output_type": "stream",
          "text": [
            "        user_id  ...                                   list_description\n",
            "0      85981819  ...  <p>In a loose order, but an order nonetheless....\n",
            "1      85981819  ...  <p>These are the films that need to be in more...\n",
            "2      85981819  ...  <p>Being a compulsive listmaker, cinéphile and...\n",
            "3      85981819  ...  <p>A work in progress…</p>\\n<p>This is intende...\n",
            "4      85981819  ...  <p>An ongoing list collecting the best in mini...\n",
            "...         ...  ...                                                ...\n",
            "80306  77265912  ...                                                NaN\n",
            "80307  74636861  ...                                                NaN\n",
            "80308  15089938  ...                                                NaN\n",
            "80309  12567302  ...  <p>peluang usaha ahasu gnaulep <br>\\ncheat gam...\n",
            "80310  26743636  ...                                                NaN\n",
            "\n",
            "[80311 rows x 9 columns]\n"
          ],
          "name": "stdout"
        }
      ]
    },
    {
      "cell_type": "code",
      "metadata": {
        "colab": {
          "base_uri": "https://localhost:8080/",
          "height": 195
        },
        "id": "HXc7ssrvtsSV",
        "outputId": "75f95097-ab16-48de-f9b0-6585fa9e5b38"
      },
      "source": [
        "#delete user_avatar_image_url, user_cover_image_url\n",
        "del d1['user_avatar_image_url']\n",
        "del d1['user_cover_image_url']\n",
        "d1.head()"
      ],
      "execution_count": null,
      "outputs": [
        {
          "output_type": "execute_result",
          "data": {
            "text/html": [
              "<div>\n",
              "<style scoped>\n",
              "    .dataframe tbody tr th:only-of-type {\n",
              "        vertical-align: middle;\n",
              "    }\n",
              "\n",
              "    .dataframe tbody tr th {\n",
              "        vertical-align: top;\n",
              "    }\n",
              "\n",
              "    .dataframe thead th {\n",
              "        text-align: right;\n",
              "    }\n",
              "</style>\n",
              "<table border=\"1\" class=\"dataframe\">\n",
              "  <thead>\n",
              "    <tr style=\"text-align: right;\">\n",
              "      <th></th>\n",
              "      <th>user_id</th>\n",
              "      <th>list_id</th>\n",
              "      <th>list_update_date_utc</th>\n",
              "      <th>list_creation_date_utc</th>\n",
              "      <th>user_trialist</th>\n",
              "      <th>user_subscriber</th>\n",
              "      <th>user_eligible_for_trial</th>\n",
              "      <th>user_has_payment_method</th>\n",
              "    </tr>\n",
              "  </thead>\n",
              "  <tbody>\n",
              "    <tr>\n",
              "      <th>0</th>\n",
              "      <td>85981819</td>\n",
              "      <td>1969</td>\n",
              "      <td>2019-11-26</td>\n",
              "      <td>2009-12-18</td>\n",
              "      <td>True</td>\n",
              "      <td>True</td>\n",
              "      <td>False</td>\n",
              "      <td>True</td>\n",
              "    </tr>\n",
              "    <tr>\n",
              "      <th>1</th>\n",
              "      <td>85981819</td>\n",
              "      <td>3946</td>\n",
              "      <td>2020-05-01</td>\n",
              "      <td>2010-01-30</td>\n",
              "      <td>True</td>\n",
              "      <td>True</td>\n",
              "      <td>False</td>\n",
              "      <td>True</td>\n",
              "    </tr>\n",
              "    <tr>\n",
              "      <th>2</th>\n",
              "      <td>85981819</td>\n",
              "      <td>6683</td>\n",
              "      <td>2020-04-12</td>\n",
              "      <td>2010-03-31</td>\n",
              "      <td>True</td>\n",
              "      <td>True</td>\n",
              "      <td>False</td>\n",
              "      <td>True</td>\n",
              "    </tr>\n",
              "    <tr>\n",
              "      <th>3</th>\n",
              "      <td>85981819</td>\n",
              "      <td>8865</td>\n",
              "      <td>2018-12-14</td>\n",
              "      <td>2010-05-10</td>\n",
              "      <td>True</td>\n",
              "      <td>True</td>\n",
              "      <td>False</td>\n",
              "      <td>True</td>\n",
              "    </tr>\n",
              "    <tr>\n",
              "      <th>4</th>\n",
              "      <td>85981819</td>\n",
              "      <td>13796</td>\n",
              "      <td>2019-11-26</td>\n",
              "      <td>2010-08-25</td>\n",
              "      <td>True</td>\n",
              "      <td>True</td>\n",
              "      <td>False</td>\n",
              "      <td>True</td>\n",
              "    </tr>\n",
              "  </tbody>\n",
              "</table>\n",
              "</div>"
            ],
            "text/plain": [
              "    user_id  list_id  ... user_eligible_for_trial user_has_payment_method\n",
              "0  85981819     1969  ...                   False                    True\n",
              "1  85981819     3946  ...                   False                    True\n",
              "2  85981819     6683  ...                   False                    True\n",
              "3  85981819     8865  ...                   False                    True\n",
              "4  85981819    13796  ...                   False                    True\n",
              "\n",
              "[5 rows x 8 columns]"
            ]
          },
          "metadata": {
            "tags": []
          },
          "execution_count": 18
        }
      ]
    },
    {
      "cell_type": "code",
      "metadata": {
        "colab": {
          "background_save": true
        },
        "id": "iaViaOA46Dya",
        "outputId": "0f282417-2e7d-456a-f98a-2c2a1b5cf994"
      },
      "source": [
        "print(d1)"
      ],
      "execution_count": null,
      "outputs": [
        {
          "output_type": "stream",
          "text": [
            "        user_id  list_id  ... user_eligible_for_trial user_has_payment_method\n",
            "0      85981819     1969  ...                   False                    True\n",
            "1      85981819     3946  ...                   False                    True\n",
            "2      85981819     6683  ...                   False                    True\n",
            "3      85981819     8865  ...                   False                    True\n",
            "4      85981819    13796  ...                   False                    True\n",
            "...         ...      ...  ...                     ...                     ...\n",
            "80306  77265912     4091  ...                    True                   False\n",
            "80307  74636861     3183  ...                    True                   False\n",
            "80308  15089938    46648  ...                    True                   False\n",
            "80309  12567302     3181  ...                    True                   False\n",
            "80310  26743636      990  ...                    True                   False\n",
            "\n",
            "[80311 rows x 8 columns]\n"
          ],
          "name": "stdout"
        }
      ]
    },
    {
      "cell_type": "code",
      "metadata": {
        "colab": {
          "base_uri": "https://localhost:8080/",
          "height": 195
        },
        "id": "Vhlb9SIfumYd",
        "outputId": "7a4290b0-cafa-4a3a-ee7a-f1c51ca758aa"
      },
      "source": [
        "#delete movie_url, movie_image_url, director_url\n",
        "del d2['movie_url']\n",
        "del d2['movie_image_url']\n",
        "del d2['director_url']\n",
        "d2.head()"
      ],
      "execution_count": null,
      "outputs": [
        {
          "output_type": "execute_result",
          "data": {
            "text/html": [
              "<div>\n",
              "<style scoped>\n",
              "    .dataframe tbody tr th:only-of-type {\n",
              "        vertical-align: middle;\n",
              "    }\n",
              "\n",
              "    .dataframe tbody tr th {\n",
              "        vertical-align: top;\n",
              "    }\n",
              "\n",
              "    .dataframe thead th {\n",
              "        text-align: right;\n",
              "    }\n",
              "</style>\n",
              "<table border=\"1\" class=\"dataframe\">\n",
              "  <thead>\n",
              "    <tr style=\"text-align: right;\">\n",
              "      <th></th>\n",
              "      <th>movie_id</th>\n",
              "      <th>movie_title</th>\n",
              "      <th>movie_release_year</th>\n",
              "      <th>movie_title_language</th>\n",
              "      <th>movie_popularity</th>\n",
              "      <th>director_id</th>\n",
              "      <th>director_name</th>\n",
              "    </tr>\n",
              "  </thead>\n",
              "  <tbody>\n",
              "    <tr>\n",
              "      <th>0</th>\n",
              "      <td>1</td>\n",
              "      <td>La Antena</td>\n",
              "      <td>2007.0</td>\n",
              "      <td>en</td>\n",
              "      <td>105</td>\n",
              "      <td>131</td>\n",
              "      <td>Esteban Sapir</td>\n",
              "    </tr>\n",
              "    <tr>\n",
              "      <th>1</th>\n",
              "      <td>2</td>\n",
              "      <td>Elementary Particles</td>\n",
              "      <td>2006.0</td>\n",
              "      <td>en</td>\n",
              "      <td>23</td>\n",
              "      <td>73</td>\n",
              "      <td>Oskar Roehler</td>\n",
              "    </tr>\n",
              "    <tr>\n",
              "      <th>2</th>\n",
              "      <td>3</td>\n",
              "      <td>It's Winter</td>\n",
              "      <td>2006.0</td>\n",
              "      <td>en</td>\n",
              "      <td>21</td>\n",
              "      <td>82</td>\n",
              "      <td>Rafi Pitts</td>\n",
              "    </tr>\n",
              "    <tr>\n",
              "      <th>3</th>\n",
              "      <td>4</td>\n",
              "      <td>Kirikou and the Wild Beasts</td>\n",
              "      <td>2005.0</td>\n",
              "      <td>en</td>\n",
              "      <td>46</td>\n",
              "      <td>89, 90</td>\n",
              "      <td>Michel Ocelot, Bénédicte Galup</td>\n",
              "    </tr>\n",
              "    <tr>\n",
              "      <th>4</th>\n",
              "      <td>5</td>\n",
              "      <td>Padre Nuestro</td>\n",
              "      <td>2007.0</td>\n",
              "      <td>en</td>\n",
              "      <td>7</td>\n",
              "      <td>92</td>\n",
              "      <td>Christopher Zalla</td>\n",
              "    </tr>\n",
              "  </tbody>\n",
              "</table>\n",
              "</div>"
            ],
            "text/plain": [
              "   movie_id  ...                   director_name\n",
              "0         1  ...                   Esteban Sapir\n",
              "1         2  ...                   Oskar Roehler\n",
              "2         3  ...                      Rafi Pitts\n",
              "3         4  ...  Michel Ocelot, Bénédicte Galup\n",
              "4         5  ...               Christopher Zalla\n",
              "\n",
              "[5 rows x 7 columns]"
            ]
          },
          "metadata": {
            "tags": []
          },
          "execution_count": 19
        }
      ]
    },
    {
      "cell_type": "code",
      "metadata": {
        "colab": {
          "base_uri": "https://localhost:8080/",
          "height": 282
        },
        "id": "Gxi33mjAvcZt",
        "outputId": "3dbf109d-f6da-4f66-c34c-96fafcd31db2"
      },
      "source": [
        "#delete rating_url\n",
        "del d3['rating_url']\n",
        "d3.head()"
      ],
      "execution_count": null,
      "outputs": [
        {
          "output_type": "execute_result",
          "data": {
            "text/html": [
              "<div>\n",
              "<style scoped>\n",
              "    .dataframe tbody tr th:only-of-type {\n",
              "        vertical-align: middle;\n",
              "    }\n",
              "\n",
              "    .dataframe tbody tr th {\n",
              "        vertical-align: top;\n",
              "    }\n",
              "\n",
              "    .dataframe thead th {\n",
              "        text-align: right;\n",
              "    }\n",
              "</style>\n",
              "<table border=\"1\" class=\"dataframe\">\n",
              "  <thead>\n",
              "    <tr style=\"text-align: right;\">\n",
              "      <th></th>\n",
              "      <th>movie_id</th>\n",
              "      <th>rating_id</th>\n",
              "      <th>rating_score</th>\n",
              "      <th>rating_timestamp_utc</th>\n",
              "      <th>critic</th>\n",
              "      <th>critic_likes</th>\n",
              "      <th>critic_comments</th>\n",
              "      <th>user_id</th>\n",
              "      <th>user_trialist</th>\n",
              "      <th>user_subscriber</th>\n",
              "      <th>user_eligible_for_trial</th>\n",
              "      <th>user_has_payment_method</th>\n",
              "    </tr>\n",
              "  </thead>\n",
              "  <tbody>\n",
              "    <tr>\n",
              "      <th>0</th>\n",
              "      <td>1066</td>\n",
              "      <td>15610495</td>\n",
              "      <td>3.0</td>\n",
              "      <td>2017-06-10 12:38:33</td>\n",
              "      <td>NaN</td>\n",
              "      <td>0</td>\n",
              "      <td>0</td>\n",
              "      <td>41579158</td>\n",
              "      <td>False</td>\n",
              "      <td>False</td>\n",
              "      <td>True</td>\n",
              "      <td>False</td>\n",
              "    </tr>\n",
              "    <tr>\n",
              "      <th>1</th>\n",
              "      <td>1066</td>\n",
              "      <td>10704606</td>\n",
              "      <td>2.0</td>\n",
              "      <td>2014-08-15 23:42:31</td>\n",
              "      <td>NaN</td>\n",
              "      <td>0</td>\n",
              "      <td>0</td>\n",
              "      <td>85981819</td>\n",
              "      <td>True</td>\n",
              "      <td>True</td>\n",
              "      <td>False</td>\n",
              "      <td>True</td>\n",
              "    </tr>\n",
              "    <tr>\n",
              "      <th>2</th>\n",
              "      <td>1066</td>\n",
              "      <td>10177114</td>\n",
              "      <td>2.0</td>\n",
              "      <td>2014-01-30 13:21:57</td>\n",
              "      <td>NaN</td>\n",
              "      <td>0</td>\n",
              "      <td>0</td>\n",
              "      <td>4208563</td>\n",
              "      <td>False</td>\n",
              "      <td>False</td>\n",
              "      <td>True</td>\n",
              "      <td>True</td>\n",
              "    </tr>\n",
              "    <tr>\n",
              "      <th>3</th>\n",
              "      <td>1066</td>\n",
              "      <td>10130280</td>\n",
              "      <td>3.0</td>\n",
              "      <td>2014-01-19 01:04:23</td>\n",
              "      <td>I am a bit disappointed by this documentary fi...</td>\n",
              "      <td>0</td>\n",
              "      <td>0</td>\n",
              "      <td>9820140</td>\n",
              "      <td>False</td>\n",
              "      <td>False</td>\n",
              "      <td>True</td>\n",
              "      <td>False</td>\n",
              "    </tr>\n",
              "    <tr>\n",
              "      <th>4</th>\n",
              "      <td>1066</td>\n",
              "      <td>8357049</td>\n",
              "      <td>4.0</td>\n",
              "      <td>2012-10-02 18:28:47</td>\n",
              "      <td>NaN</td>\n",
              "      <td>0</td>\n",
              "      <td>0</td>\n",
              "      <td>68654088</td>\n",
              "      <td>False</td>\n",
              "      <td>False</td>\n",
              "      <td>True</td>\n",
              "      <td>True</td>\n",
              "    </tr>\n",
              "  </tbody>\n",
              "</table>\n",
              "</div>"
            ],
            "text/plain": [
              "   movie_id  rating_id  ...  user_eligible_for_trial user_has_payment_method\n",
              "0      1066   15610495  ...                     True                   False\n",
              "1      1066   10704606  ...                    False                    True\n",
              "2      1066   10177114  ...                     True                    True\n",
              "3      1066   10130280  ...                     True                   False\n",
              "4      1066    8357049  ...                     True                    True\n",
              "\n",
              "[5 rows x 12 columns]"
            ]
          },
          "metadata": {
            "tags": []
          },
          "execution_count": 20
        }
      ]
    },
    {
      "cell_type": "code",
      "metadata": {
        "colab": {
          "base_uri": "https://localhost:8080/",
          "height": 195
        },
        "id": "gbsZQyFtzZD_",
        "outputId": "4198696a-d949-4332-ae37-e3a78e853e7f"
      },
      "source": [
        "#delete user_avatar_image_url, user_cover_image_url\n",
        "del d4['user_avatar_image_url']\n",
        "del d4['user_cover_image_url']\n",
        "d4.head()"
      ],
      "execution_count": null,
      "outputs": [
        {
          "output_type": "execute_result",
          "data": {
            "text/html": [
              "<div>\n",
              "<style scoped>\n",
              "    .dataframe tbody tr th:only-of-type {\n",
              "        vertical-align: middle;\n",
              "    }\n",
              "\n",
              "    .dataframe tbody tr th {\n",
              "        vertical-align: top;\n",
              "    }\n",
              "\n",
              "    .dataframe thead th {\n",
              "        text-align: right;\n",
              "    }\n",
              "</style>\n",
              "<table border=\"1\" class=\"dataframe\">\n",
              "  <thead>\n",
              "    <tr style=\"text-align: right;\">\n",
              "      <th></th>\n",
              "      <th>user_id</th>\n",
              "      <th>rating_date_utc</th>\n",
              "      <th>user_trialist</th>\n",
              "      <th>user_subscriber</th>\n",
              "      <th>user_eligible_for_trial</th>\n",
              "      <th>user_has_payment_method</th>\n",
              "    </tr>\n",
              "  </thead>\n",
              "  <tbody>\n",
              "    <tr>\n",
              "      <th>0</th>\n",
              "      <td>41579158</td>\n",
              "      <td>2017-06-10</td>\n",
              "      <td>False</td>\n",
              "      <td>False</td>\n",
              "      <td>True</td>\n",
              "      <td>False</td>\n",
              "    </tr>\n",
              "    <tr>\n",
              "      <th>1</th>\n",
              "      <td>68654088</td>\n",
              "      <td>2012-10-02</td>\n",
              "      <td>False</td>\n",
              "      <td>False</td>\n",
              "      <td>True</td>\n",
              "      <td>True</td>\n",
              "    </tr>\n",
              "    <tr>\n",
              "      <th>2</th>\n",
              "      <td>84114365</td>\n",
              "      <td>2010-12-25</td>\n",
              "      <td>False</td>\n",
              "      <td>False</td>\n",
              "      <td>True</td>\n",
              "      <td>False</td>\n",
              "    </tr>\n",
              "    <tr>\n",
              "      <th>3</th>\n",
              "      <td>29755671</td>\n",
              "      <td>2010-11-15</td>\n",
              "      <td>False</td>\n",
              "      <td>False</td>\n",
              "      <td>True</td>\n",
              "      <td>False</td>\n",
              "    </tr>\n",
              "    <tr>\n",
              "      <th>4</th>\n",
              "      <td>93302487</td>\n",
              "      <td>2010-01-05</td>\n",
              "      <td>False</td>\n",
              "      <td>False</td>\n",
              "      <td>True</td>\n",
              "      <td>False</td>\n",
              "    </tr>\n",
              "  </tbody>\n",
              "</table>\n",
              "</div>"
            ],
            "text/plain": [
              "    user_id rating_date_utc  ... user_eligible_for_trial user_has_payment_method\n",
              "0  41579158      2017-06-10  ...                    True                   False\n",
              "1  68654088      2012-10-02  ...                    True                    True\n",
              "2  84114365      2010-12-25  ...                    True                   False\n",
              "3  29755671      2010-11-15  ...                    True                   False\n",
              "4  93302487      2010-01-05  ...                    True                   False\n",
              "\n",
              "[5 rows x 6 columns]"
            ]
          },
          "metadata": {
            "tags": []
          },
          "execution_count": 23
        }
      ]
    },
    {
      "cell_type": "markdown",
      "metadata": {
        "id": "G1DM5Frb2iUw"
      },
      "source": [
        "As all information in dataframe d4 is included in d3, we will not use it in the following steps."
      ]
    },
    {
      "cell_type": "markdown",
      "metadata": {
        "id": "yldlwuVk8zhR"
      },
      "source": [
        "Our group decided to merge d and d1 according to the user_id."
      ]
    },
    {
      "cell_type": "code",
      "metadata": {
        "colab": {
          "base_uri": "https://localhost:8080/",
          "height": 450
        },
        "id": "Hc8FxMcJ2hCI",
        "outputId": "8b575f53-4791-4650-f2b2-1354ade0cce2"
      },
      "source": [
        "m1 = pd.merge(d, d1)\n",
        "m1.head()"
      ],
      "execution_count": null,
      "outputs": [
        {
          "output_type": "execute_result",
          "data": {
            "text/html": [
              "<div>\n",
              "<style scoped>\n",
              "    .dataframe tbody tr th:only-of-type {\n",
              "        vertical-align: middle;\n",
              "    }\n",
              "\n",
              "    .dataframe tbody tr th {\n",
              "        vertical-align: top;\n",
              "    }\n",
              "\n",
              "    .dataframe thead th {\n",
              "        text-align: right;\n",
              "    }\n",
              "</style>\n",
              "<table border=\"1\" class=\"dataframe\">\n",
              "  <thead>\n",
              "    <tr style=\"text-align: right;\">\n",
              "      <th></th>\n",
              "      <th>user_id</th>\n",
              "      <th>list_id</th>\n",
              "      <th>list_title</th>\n",
              "      <th>list_movie_number</th>\n",
              "      <th>list_update_timestamp_utc</th>\n",
              "      <th>list_creation_timestamp_utc</th>\n",
              "      <th>list_followers</th>\n",
              "      <th>list_comments</th>\n",
              "      <th>list_description</th>\n",
              "      <th>list_update_date_utc</th>\n",
              "      <th>list_creation_date_utc</th>\n",
              "      <th>user_trialist</th>\n",
              "      <th>user_subscriber</th>\n",
              "      <th>user_eligible_for_trial</th>\n",
              "      <th>user_has_payment_method</th>\n",
              "    </tr>\n",
              "  </thead>\n",
              "  <tbody>\n",
              "    <tr>\n",
              "      <th>0</th>\n",
              "      <td>85981819</td>\n",
              "      <td>1969</td>\n",
              "      <td>250 Favourite Films</td>\n",
              "      <td>250</td>\n",
              "      <td>2019-11-26 03:20:17</td>\n",
              "      <td>2009-12-18 13:04:48</td>\n",
              "      <td>23</td>\n",
              "      <td>5</td>\n",
              "      <td>&lt;p&gt;In a loose order, but an order nonetheless....</td>\n",
              "      <td>2019-11-26</td>\n",
              "      <td>2009-12-18</td>\n",
              "      <td>True</td>\n",
              "      <td>True</td>\n",
              "      <td>False</td>\n",
              "      <td>True</td>\n",
              "    </tr>\n",
              "    <tr>\n",
              "      <th>1</th>\n",
              "      <td>85981819</td>\n",
              "      <td>3946</td>\n",
              "      <td>Films that should be better known</td>\n",
              "      <td>181</td>\n",
              "      <td>2020-05-01 05:54:39</td>\n",
              "      <td>2010-01-30 16:27:27</td>\n",
              "      <td>308</td>\n",
              "      <td>11</td>\n",
              "      <td>&lt;p&gt;These are the films that need to be in more...</td>\n",
              "      <td>2020-05-01</td>\n",
              "      <td>2010-01-30</td>\n",
              "      <td>True</td>\n",
              "      <td>True</td>\n",
              "      <td>False</td>\n",
              "      <td>True</td>\n",
              "    </tr>\n",
              "    <tr>\n",
              "      <th>2</th>\n",
              "      <td>85981819</td>\n",
              "      <td>6683</td>\n",
              "      <td>Films by country (completely stolen from Glemaud)</td>\n",
              "      <td>179</td>\n",
              "      <td>2020-04-12 08:31:35</td>\n",
              "      <td>2010-03-31 08:55:10</td>\n",
              "      <td>32</td>\n",
              "      <td>5</td>\n",
              "      <td>&lt;p&gt;Being a compulsive listmaker, cinéphile and...</td>\n",
              "      <td>2020-04-12</td>\n",
              "      <td>2010-03-31</td>\n",
              "      <td>True</td>\n",
              "      <td>True</td>\n",
              "      <td>False</td>\n",
              "      <td>True</td>\n",
              "    </tr>\n",
              "    <tr>\n",
              "      <th>3</th>\n",
              "      <td>85981819</td>\n",
              "      <td>8865</td>\n",
              "      <td>Play it cool.</td>\n",
              "      <td>56</td>\n",
              "      <td>2018-12-14 14:53:41</td>\n",
              "      <td>2010-05-10 08:18:40</td>\n",
              "      <td>10</td>\n",
              "      <td>1</td>\n",
              "      <td>&lt;p&gt;A work in progress…&lt;/p&gt;\\n&lt;p&gt;This is intende...</td>\n",
              "      <td>2018-12-14</td>\n",
              "      <td>2010-05-10</td>\n",
              "      <td>True</td>\n",
              "      <td>True</td>\n",
              "      <td>False</td>\n",
              "      <td>True</td>\n",
              "    </tr>\n",
              "    <tr>\n",
              "      <th>4</th>\n",
              "      <td>85981819</td>\n",
              "      <td>13796</td>\n",
              "      <td>Cinemalism (work in progress)</td>\n",
              "      <td>121</td>\n",
              "      <td>2019-11-26 03:20:23</td>\n",
              "      <td>2010-08-25 14:23:56</td>\n",
              "      <td>43</td>\n",
              "      <td>3</td>\n",
              "      <td>&lt;p&gt;An ongoing list collecting the best in mini...</td>\n",
              "      <td>2019-11-26</td>\n",
              "      <td>2010-08-25</td>\n",
              "      <td>True</td>\n",
              "      <td>True</td>\n",
              "      <td>False</td>\n",
              "      <td>True</td>\n",
              "    </tr>\n",
              "  </tbody>\n",
              "</table>\n",
              "</div>"
            ],
            "text/plain": [
              "    user_id  list_id  ... user_eligible_for_trial  user_has_payment_method\n",
              "0  85981819     1969  ...                   False                     True\n",
              "1  85981819     3946  ...                   False                     True\n",
              "2  85981819     6683  ...                   False                     True\n",
              "3  85981819     8865  ...                   False                     True\n",
              "4  85981819    13796  ...                   False                     True\n",
              "\n",
              "[5 rows x 15 columns]"
            ]
          },
          "metadata": {
            "tags": []
          },
          "execution_count": 24
        }
      ]
    },
    {
      "cell_type": "markdown",
      "metadata": {
        "id": "_sgayFWlwErS"
      },
      "source": [
        "Our group decided to merge d2 and d3 according to the user_id."
      ]
    },
    {
      "cell_type": "code",
      "metadata": {
        "colab": {
          "base_uri": "https://localhost:8080/"
        },
        "id": "CAnZ6fM0S4BE",
        "outputId": "be443134-cc5a-4c62-ee77-e8c817346d12"
      },
      "source": [
        "m2 = pd.merge(d2, d3)\n",
        "m2 = m2.sample(n=2000)\n",
        "print(m2)"
      ],
      "execution_count": null,
      "outputs": [
        {
          "output_type": "stream",
          "text": [
            "          movie_id  ... user_has_payment_method\n",
            "13274853    103259  ...                    True\n",
            "15194768    193585  ...                    True\n",
            "10707873     29110  ...                   False\n",
            "7098739       3506  ...                   False\n",
            "7335034       3754  ...                   False\n",
            "...            ...  ...                     ...\n",
            "9197562      21279  ...                    True\n",
            "13345899    104599  ...                    True\n",
            "4713844       1728  ...                   False\n",
            "14170992    124552  ...                    True\n",
            "10115972     25522  ...                    True\n",
            "\n",
            "[2000 rows x 18 columns]\n"
          ],
          "name": "stdout"
        }
      ]
    },
    {
      "cell_type": "markdown",
      "metadata": {
        "id": "FGA5vrAX9g7a"
      },
      "source": [
        "# **4. Modeling and Evaluating**"
      ]
    },
    {
      "cell_type": "markdown",
      "metadata": {
        "id": "xpl4PDUcSogP"
      },
      "source": [
        "Firstly, We are curious about the number of movies released every year. Since as we all know, movie holds a considerable percent in people’e entertaining lives, especially today. Additionally, the development of internet and social media make the movie industry more and more profitable, therefore the percentage change of the number of movie released every year is an interesting topic to explore. "
      ]
    },
    {
      "cell_type": "code",
      "metadata": {
        "colab": {
          "base_uri": "https://localhost:8080/",
          "height": 470
        },
        "id": "izmYVcuy-Mgb",
        "outputId": "862155cf-659e-4330-8ad8-8aac70310ed8"
      },
      "source": [
        "import matplotlib.pyplot as plt; \n",
        "plt.rcdefaults()\n",
        "import numpy as np\n",
        "import matplotlib.pyplot as plt\n",
        "plt.hist(d2.movie_release_year)\n",
        "plt.title('movie release year')"
      ],
      "execution_count": null,
      "outputs": [
        {
          "output_type": "execute_result",
          "data": {
            "text/plain": [
              "Text(0.5, 1.0, 'movie release year')"
            ]
          },
          "metadata": {
            "tags": []
          },
          "execution_count": 42
        },
        {
          "output_type": "display_data",
          "data": {
            "image/png": "[encoded data removed]",
            "text/plain": [
              "<Figure size 640x480 with 1 Axes>"
            ]
          },
          "metadata": {
            "tags": []
          }
        }
      ]
    },
    {
      "cell_type": "markdown",
      "metadata": {
        "id": "UkDOQCCfGIWr"
      },
      "source": [
        "The histogram above shows the number of movies released each year. As the year increases, the number of movies released increased."
      ]
    },
    {
      "cell_type": "markdown",
      "metadata": {
        "id": "g9I1r4QGSuMm"
      },
      "source": [
        "The website categorizes consumers with four criteria: whether the user was a trialist when he rated the movie, whether user was a subscriber when he rated the movie, whether the user was eligible for trial when he rated the movie, and the user was a paying subscriber when he rated the movie. By using pie chart, we can see the percentage those user hold clearly. "
      ]
    },
    {
      "cell_type": "code",
      "metadata": {
        "colab": {
          "base_uri": "https://localhost:8080/",
          "height": 428
        },
        "id": "pPrq7wSaDMCL",
        "outputId": "931dc9f4-df41-4267-e459-759a02baa62d"
      },
      "source": [
        "# Data to plot\n",
        "labels = 'True', 'False'\n",
        "sizes = [8 , 92]\n",
        "colors = ['gold','yellowgreen']\n",
        "explode = (0, 0)\n",
        "# Plot\n",
        "plt.pie(sizes, explode=explode, labels=labels, colors=colors,\n",
        "autopct='%1.1f%%', shadow=True, startangle=140)\n",
        "plt.axis('equal')\n",
        "plt.title('user was a trialist when he rated the movie')\n",
        "plt.show()"
      ],
      "execution_count": null,
      "outputs": [
        {
          "output_type": "display_data",
          "data": {
            "image/png": "[encoded data removed]",
            "text/plain": [
              "<Figure size 640x480 with 1 Axes>"
            ]
          },
          "metadata": {
            "tags": []
          }
        }
      ]
    },
    {
      "cell_type": "markdown",
      "metadata": {
        "id": "j9WqbqWvSzjU"
      },
      "source": [
        "Most of people rated the movie when they are not in trial list. There is definitely correlation behind it, since users who have stronger opinions or preference on movie are highly likely to be a formal member. "
      ]
    },
    {
      "cell_type": "code",
      "metadata": {
        "id": "_9ceYzQWDwz7",
        "colab": {
          "base_uri": "https://localhost:8080/",
          "height": 428
        },
        "outputId": "e3ba26ea-ace9-4999-fbc4-5cb2153ba971"
      },
      "source": [
        "sizes = [33,67]\n",
        "colors = ['gold', 'yellowgreen']\n",
        "explode = (0, 0)\n",
        "plt.pie(sizes, explode=explode,labels=labels, colors=colors,\n",
        "autopct='%1.1f%%', shadow=True, startangle=140)\n",
        "plt.axis('equal')\n",
        "plt.title('user was a subscriber when he rated the movie')\n",
        "plt.show()"
      ],
      "execution_count": null,
      "outputs": [
        {
          "output_type": "display_data",
          "data": {
            "image/png": "[encoded data removed]",
            "text/plain": [
              "<Figure size 640x480 with 1 Axes>"
            ]
          },
          "metadata": {
            "tags": []
          }
        }
      ]
    },
    {
      "cell_type": "markdown",
      "metadata": {
        "id": "it12fO6WS1jr"
      },
      "source": [
        "The number of user is not a subscriber when he rated the movie is surprisingly high. Therefore, there are more tourists viewing the website than we expect, maybe they are audiences specifically interested in some movies. From the perspective of adversing, website manager can come up with a way to attract tourists to subscribe and stay in the website for longer time. \n"
      ]
    },
    {
      "cell_type": "code",
      "metadata": {
        "id": "tnosoQ0PDwuZ",
        "colab": {
          "base_uri": "https://localhost:8080/",
          "height": 428
        },
        "outputId": "3f0b33f3-2abc-4354-fe96-d7cc4eed4ae6"
      },
      "source": [
        "sizes = [64,36]\n",
        "colors = ['gold', 'yellowgreen']\n",
        "explode = (0, 0)\n",
        "plt.pie(sizes, explode=explode, labels=labels, colors=colors,\n",
        "autopct='%1.1f%%', shadow=True, startangle=140)\n",
        "plt.axis('equal')\n",
        "plt.title('user was eligible for trial when he rated the movie')\n",
        "plt.show()"
      ],
      "execution_count": null,
      "outputs": [
        {
          "output_type": "display_data",
          "data": {
            "image/png": "[encoded data removed]",
            "text/plain": [
              "<Figure size 640x480 with 1 Axes>"
            ]
          },
          "metadata": {
            "tags": []
          }
        }
      ]
    },
    {
      "cell_type": "markdown",
      "metadata": {
        "id": "9gDGjImnS5o9"
      },
      "source": [
        "The number of user was eligible for trial when he rated the movie means they are new users. As we stated above, there are many tourists to the website now. \n"
      ]
    },
    {
      "cell_type": "code",
      "metadata": {
        "id": "IV-T1FaRD84i",
        "colab": {
          "base_uri": "https://localhost:8080/",
          "height": 428
        },
        "outputId": "a69256cb-e52d-4822-ea5d-94adef8a76d2"
      },
      "source": [
        "sizes = [48,52]\n",
        "colors = ['gold', 'yellowgreen']\n",
        "explode = (0, 0)\n",
        "plt.pie(sizes, explode=explode, labels=labels, colors=colors,\n",
        "autopct='%1.1f%%', shadow=True, startangle=140)\n",
        "plt.axis('equal')\n",
        "plt.title('user was a paying subscriber when he rated the movie')\n",
        "plt.show()"
      ],
      "execution_count": null,
      "outputs": [
        {
          "output_type": "display_data",
          "data": {
            "image/png": "[encoded data removed]",
            "text/plain": [
              "<Figure size 640x480 with 1 Axes>"
            ]
          },
          "metadata": {
            "tags": []
          }
        }
      ]
    },
    {
      "cell_type": "markdown",
      "metadata": {
        "id": "XckO6napS8Ic"
      },
      "source": [
        "\n",
        "The distribution of whether the user was a paying subscriber is pretty even, showing a steady development of the website. "
      ]
    },
    {
      "cell_type": "code",
      "metadata": {
        "id": "43_wUIG_Hu1t"
      },
      "source": [
        "# Import seaborn and apply its plotting styles\n",
        "import seaborn as sns\n",
        "import numpy as np\n",
        "sns.set()\n",
        "# This line allows matplotlib plots to appear as images in the notebook\n",
        "# instead of in a separate window.\n",
        "%matplotlib inline\n",
        "\n",
        "# plt is a commonly used shortcut for matplotlib\n",
        "import matplotlib.pyplot as plt"
      ],
      "execution_count": null,
      "outputs": []
    },
    {
      "cell_type": "markdown",
      "metadata": {
        "id": "ZfEFqTL1HhEP"
      },
      "source": [
        "MUBI allows users to collect movies into a private/public list. People can follow or comment on the public lists. We want to see if there is a difference on this between people who use free trial and people who pay for the membership. All data here comes from the table m1."
      ]
    },
    {
      "cell_type": "markdown",
      "metadata": {
        "id": "DcyLPuS7Hkv8"
      },
      "source": [
        "This is the graph for trialist users. The blue points (False) means the user pay for the membership when create the list, and the red points (True) means the user is in free trial when create the list. Points on the x=y line indicates the lists that have the most followers and comments. We can see the situation is quite similar between trialist and not trialist in that section. However, blue points occupy more space overall and they diffused outward in a greater degree than the red points. In the bottom left corner, both blue points and red points accumulate. This happens as many new users would like to create a list in the begining. And people are more likely to be interested in a new website. But as time passes, and we assume the lists have large number of comments and followers are the precisely chosen ones, people who pay for the membership see what people really like. They then create more popular lists. Therefore, we may say people spend money for the membership are more active in MUBI as they follow and comment more."
      ]
    },
    {
      "cell_type": "code",
      "metadata": {
        "colab": {
          "base_uri": "https://localhost:8080/",
          "height": 419
        },
        "id": "ChsHZEVJ_EvA",
        "outputId": "19e23400-9034-4733-f4a4-b92e1fe0bd12"
      },
      "source": [
        "sns.lmplot(x='list_comments', y='list_followers', hue='user_trialist', data=m1, fit_reg=False)\n",
        "plt.title('number of comments and followers of list created by trialist/not trialist')"
      ],
      "execution_count": null,
      "outputs": [
        {
          "output_type": "execute_result",
          "data": {
            "text/plain": [
              "Text(0.5, 1.0, 'number of comments and followers of list created by trialist/not trialist')"
            ]
          },
          "metadata": {
            "tags": []
          },
          "execution_count": 27
        },
        {
          "output_type": "display_data",
          "data": {
            "image/png": "[encoded data removed]",
            "text/plain": [
              "<Figure size 439.675x360 with 1 Axes>"
            ]
          },
          "metadata": {
            "tags": [],
            "needs_background": "light"
          }
        }
      ]
    },
    {
      "cell_type": "markdown",
      "metadata": {
        "id": "DrxMHyXDKgWY"
      },
      "source": [
        "In table d3, rating scores from different users to movies are presented. There are many different rates towards the same movie. To study each movie, we dicide to find the average rating score for each movie id."
      ]
    },
    {
      "cell_type": "code",
      "metadata": {
        "id": "f0mO-kjEKazP",
        "colab": {
          "base_uri": "https://localhost:8080/"
        },
        "outputId": "5f7f27fb-f5e9-4f86-835e-0fe764d58c49"
      },
      "source": [
        "data = d3.groupby(\"movie_id\")[\"rating_score\"].mean().reset_index()\n",
        "print(data)"
      ],
      "execution_count": null,
      "outputs": [
        {
          "output_type": "stream",
          "text": [
            "        movie_id  rating_score\n",
            "0              0      3.000000\n",
            "1              1      3.782705\n",
            "2              2      2.872385\n",
            "3              3      3.424731\n",
            "4              4      3.800895\n",
            "...          ...           ...\n",
            "142693    263692      4.000000\n",
            "142694    263693      2.000000\n",
            "142695    263701      3.000000\n",
            "142696    263708      3.000000\n",
            "142697    263709      2.000000\n",
            "\n",
            "[142698 rows x 2 columns]\n"
          ],
          "name": "stdout"
        }
      ]
    },
    {
      "cell_type": "markdown",
      "metadata": {
        "id": "D-hvAGqcgDTW"
      },
      "source": [
        "Next, we rank the average rating score in the table 'data'. Then we extract the rows which the average rating score is 5.0. Unlike the other rankings, there are many more top 1 scores (5.0) and therefore they are all rank as 1928.5. In total, there are 3856 movies having a 5.0 average rating score."
      ]
    },
    {
      "cell_type": "code",
      "metadata": {
        "id": "6dC-pFxUgGw-",
        "colab": {
          "base_uri": "https://localhost:8080/",
          "height": 402
        },
        "outputId": "e6864b19-f3f7-4ebe-aad3-a15f270dd5f3"
      },
      "source": [
        "data['rank'] = data['rating_score'].rank(ascending=False)\n",
        "data.loc[(data['rating_score']>=5.0)]"
      ],
      "execution_count": null,
      "outputs": [
        {
          "output_type": "execute_result",
          "data": {
            "text/html": [
              "<div>\n",
              "<style scoped>\n",
              "    .dataframe tbody tr th:only-of-type {\n",
              "        vertical-align: middle;\n",
              "    }\n",
              "\n",
              "    .dataframe tbody tr th {\n",
              "        vertical-align: top;\n",
              "    }\n",
              "\n",
              "    .dataframe thead th {\n",
              "        text-align: right;\n",
              "    }\n",
              "</style>\n",
              "<table border=\"1\" class=\"dataframe\">\n",
              "  <thead>\n",
              "    <tr style=\"text-align: right;\">\n",
              "      <th></th>\n",
              "      <th>movie_id</th>\n",
              "      <th>rating_score</th>\n",
              "      <th>rank</th>\n",
              "    </tr>\n",
              "  </thead>\n",
              "  <tbody>\n",
              "    <tr>\n",
              "      <th>87</th>\n",
              "      <td>87</td>\n",
              "      <td>5.0</td>\n",
              "      <td>1928.5</td>\n",
              "    </tr>\n",
              "    <tr>\n",
              "      <th>127</th>\n",
              "      <td>127</td>\n",
              "      <td>5.0</td>\n",
              "      <td>1928.5</td>\n",
              "    </tr>\n",
              "    <tr>\n",
              "      <th>132</th>\n",
              "      <td>132</td>\n",
              "      <td>5.0</td>\n",
              "      <td>1928.5</td>\n",
              "    </tr>\n",
              "    <tr>\n",
              "      <th>2707</th>\n",
              "      <td>2912</td>\n",
              "      <td>5.0</td>\n",
              "      <td>1928.5</td>\n",
              "    </tr>\n",
              "    <tr>\n",
              "      <th>3716</th>\n",
              "      <td>4005</td>\n",
              "      <td>5.0</td>\n",
              "      <td>1928.5</td>\n",
              "    </tr>\n",
              "    <tr>\n",
              "      <th>...</th>\n",
              "      <td>...</td>\n",
              "      <td>...</td>\n",
              "      <td>...</td>\n",
              "    </tr>\n",
              "    <tr>\n",
              "      <th>142623</th>\n",
              "      <td>263380</td>\n",
              "      <td>5.0</td>\n",
              "      <td>1928.5</td>\n",
              "    </tr>\n",
              "    <tr>\n",
              "      <th>142624</th>\n",
              "      <td>263393</td>\n",
              "      <td>5.0</td>\n",
              "      <td>1928.5</td>\n",
              "    </tr>\n",
              "    <tr>\n",
              "      <th>142674</th>\n",
              "      <td>263635</td>\n",
              "      <td>5.0</td>\n",
              "      <td>1928.5</td>\n",
              "    </tr>\n",
              "    <tr>\n",
              "      <th>142683</th>\n",
              "      <td>263672</td>\n",
              "      <td>5.0</td>\n",
              "      <td>1928.5</td>\n",
              "    </tr>\n",
              "    <tr>\n",
              "      <th>142685</th>\n",
              "      <td>263674</td>\n",
              "      <td>5.0</td>\n",
              "      <td>1928.5</td>\n",
              "    </tr>\n",
              "  </tbody>\n",
              "</table>\n",
              "<p>3856 rows × 3 columns</p>\n",
              "</div>"
            ],
            "text/plain": [
              "        movie_id  rating_score    rank\n",
              "87            87           5.0  1928.5\n",
              "127          127           5.0  1928.5\n",
              "132          132           5.0  1928.5\n",
              "2707        2912           5.0  1928.5\n",
              "3716        4005           5.0  1928.5\n",
              "...          ...           ...     ...\n",
              "142623    263380           5.0  1928.5\n",
              "142624    263393           5.0  1928.5\n",
              "142674    263635           5.0  1928.5\n",
              "142683    263672           5.0  1928.5\n",
              "142685    263674           5.0  1928.5\n",
              "\n",
              "[3856 rows x 3 columns]"
            ]
          },
          "metadata": {
            "tags": []
          },
          "execution_count": 30
        }
      ]
    },
    {
      "cell_type": "markdown",
      "metadata": {
        "id": "HZHp-aYuKyg4"
      },
      "source": [
        "Now, the average rating socre is presented in the table 'data'. Each average rating score is connected with one specific movie id. Next, we want to draw a histogram using the new table."
      ]
    },
    {
      "cell_type": "markdown",
      "metadata": {
        "id": "lyQZE5atKW26"
      },
      "source": [
        "From this histogram, we can see most movies receive rating scores around 3.0 to 3.5. And the movies that have an average rating socres around 4.5 and 1.5 are the least. Although this graph seems a bit symmetrical, it skews relatively toward right hand side, meaning there are more good movies than bad movies. Otherwise, it can indicate that people are more likely to give a better rate than a bad rate."
      ]
    },
    {
      "cell_type": "code",
      "metadata": {
        "id": "xA-Lt4JvKVqC",
        "colab": {
          "base_uri": "https://localhost:8080/",
          "height": 302
        },
        "outputId": "e11c0a47-17f0-4ecf-f7f8-89d33b5b9d98"
      },
      "source": [
        "# Import seaborn and apply its plotting styles\n",
        "import seaborn as sns\n",
        "import numpy as np\n",
        "sns.set()\n",
        "# This line allows matplotlib plots to appear as images in the notebook\n",
        "# instead of in a separate window.\n",
        "%matplotlib inline\n",
        "\n",
        "# plt is a commonly used shortcut for matplotlib\n",
        "import matplotlib.pyplot as plt\n",
        "\n",
        "plt.hist(data.rating_score)\n",
        "plt.title('average rating score of movies')"
      ],
      "execution_count": null,
      "outputs": [
        {
          "output_type": "execute_result",
          "data": {
            "text/plain": [
              "Text(0.5, 1.0, 'average rating score of movies')"
            ]
          },
          "metadata": {
            "tags": []
          },
          "execution_count": 53
        },
        {
          "output_type": "display_data",
          "data": {
            "image/png": "[encoded data removed]",
            "text/plain": [
              "<Figure size 432x288 with 1 Axes>"
            ]
          },
          "metadata": {
            "tags": [],
            "needs_background": "light"
          }
        }
      ]
    },
    {
      "cell_type": "markdown",
      "metadata": {
        "id": "YzGuLfWoJr3x"
      },
      "source": [
        "We want to see which movie is most popular. So we create a new column named as 'Hierarchy_Rank' to present the order of popularity. 1.0 means the movie is the most popular one. If movie A has the same popularity as movie B, they will have the same rank number. Here is a table for the top 10 most popular movies."
      ]
    },
    {
      "cell_type": "code",
      "metadata": {
        "id": "_hxwN2wAJO10",
        "colab": {
          "base_uri": "https://localhost:8080/"
        },
        "outputId": "5f7afdbf-60a4-4e06-afe2-24d91b92de03"
      },
      "source": [
        "d2['Hierarchy_Rank']=d2['movie_popularity'].rank(ascending=False)\n",
        "pop_d2=d2.loc[(d2['Hierarchy_Rank']<=10.0)].copy()\n",
        "print(pop_d2)"
      ],
      "execution_count": null,
      "outputs": [
        {
          "output_type": "stream",
          "text": [
            "      movie_id  ... Hierarchy_Rank\n",
            "66          92  ...            8.0\n",
            "114        147  ...            4.0\n",
            "115        148  ...            9.0\n",
            "128        161  ...            1.0\n",
            "170        204  ...            5.0\n",
            "266        303  ...            2.0\n",
            "277        315  ...           10.0\n",
            "366        405  ...            6.0\n",
            "447        488  ...            3.0\n",
            "1438      1537  ...            7.0\n",
            "\n",
            "[10 rows x 8 columns]\n"
          ],
          "name": "stdout"
        }
      ]
    },
    {
      "cell_type": "markdown",
      "metadata": {
        "id": "ThUPwQLiwXuM"
      },
      "source": [
        "From the bar chart, we can determine which movie has the highest movie_popularity."
      ]
    },
    {
      "cell_type": "code",
      "metadata": {
        "id": "oKTn3I6ZKMBT",
        "colab": {
          "base_uri": "https://localhost:8080/",
          "height": 686
        },
        "outputId": "064edef8-c5ee-4d81-89f4-edd6043bd2df"
      },
      "source": [
        "plt.bar(pop_d2.movie_title,pop_d2.movie_popularity,label=\"Blue Bar\",color='b',)\n",
        "plt.plot()\n",
        "plt.title('movie popularity')\n",
        "plt.xticks(rotation=90)"
      ],
      "execution_count": null,
      "outputs": [
        {
          "output_type": "execute_result",
          "data": {
            "text/plain": [
              "([0, 1, 2, 3, 4, 5, 6, 7, 8, 9], <a list of 10 Text major ticklabel objects>)"
            ]
          },
          "metadata": {
            "tags": []
          },
          "execution_count": 57
        },
        {
          "output_type": "display_data",
          "data": {
            "image/png": "[encoded data removed]",
            "text/plain": [
              "<Figure size 432x288 with 1 Axes>"
            ]
          },
          "metadata": {
            "tags": [],
            "needs_background": "light"
          }
        }
      ]
    },
    {
      "cell_type": "markdown",
      "metadata": {
        "id": "34lpvoi9wphK"
      },
      "source": [
        "Our group filter the movies that have a rating_score of 5."
      ]
    },
    {
      "cell_type": "code",
      "metadata": {
        "id": "QK-VEEX_FcBT",
        "colab": {
          "base_uri": "https://localhost:8080/",
          "height": 573
        },
        "outputId": "090bb527-7e47-41b0-d391-9787b829b511"
      },
      "source": [
        "d3.loc[(d3['rating_score']==5.0)]\n"
      ],
      "execution_count": null,
      "outputs": [
        {
          "output_type": "execute_result",
          "data": {
            "text/html": [
              "<div>\n",
              "<style scoped>\n",
              "    .dataframe tbody tr th:only-of-type {\n",
              "        vertical-align: middle;\n",
              "    }\n",
              "\n",
              "    .dataframe tbody tr th {\n",
              "        vertical-align: top;\n",
              "    }\n",
              "\n",
              "    .dataframe thead th {\n",
              "        text-align: right;\n",
              "    }\n",
              "</style>\n",
              "<table border=\"1\" class=\"dataframe\">\n",
              "  <thead>\n",
              "    <tr style=\"text-align: right;\">\n",
              "      <th></th>\n",
              "      <th>movie_id</th>\n",
              "      <th>rating_id</th>\n",
              "      <th>rating_score</th>\n",
              "      <th>rating_timestamp_utc</th>\n",
              "      <th>critic</th>\n",
              "      <th>critic_likes</th>\n",
              "      <th>critic_comments</th>\n",
              "      <th>user_id</th>\n",
              "      <th>user_trialist</th>\n",
              "      <th>user_subscriber</th>\n",
              "      <th>user_eligible_for_trial</th>\n",
              "      <th>user_has_payment_method</th>\n",
              "    </tr>\n",
              "  </thead>\n",
              "  <tbody>\n",
              "    <tr>\n",
              "      <th>10</th>\n",
              "      <td>1066</td>\n",
              "      <td>4247213</td>\n",
              "      <td>5.0</td>\n",
              "      <td>2010-12-25 22:24:24</td>\n",
              "      <td>NaN</td>\n",
              "      <td>0</td>\n",
              "      <td>0</td>\n",
              "      <td>84114365</td>\n",
              "      <td>False</td>\n",
              "      <td>False</td>\n",
              "      <td>True</td>\n",
              "      <td>False</td>\n",
              "    </tr>\n",
              "    <tr>\n",
              "      <th>24</th>\n",
              "      <td>1067</td>\n",
              "      <td>8761221</td>\n",
              "      <td>5.0</td>\n",
              "      <td>2012-12-30 20:02:21</td>\n",
              "      <td>One of the more harrowing viewing experiences ...</td>\n",
              "      <td>0</td>\n",
              "      <td>0</td>\n",
              "      <td>95094020</td>\n",
              "      <td>False</td>\n",
              "      <td>False</td>\n",
              "      <td>True</td>\n",
              "      <td>False</td>\n",
              "    </tr>\n",
              "    <tr>\n",
              "      <th>25</th>\n",
              "      <td>1067</td>\n",
              "      <td>8458056</td>\n",
              "      <td>5.0</td>\n",
              "      <td>2012-10-25 19:13:59</td>\n",
              "      <td>NaN</td>\n",
              "      <td>0</td>\n",
              "      <td>0</td>\n",
              "      <td>86451071</td>\n",
              "      <td>False</td>\n",
              "      <td>False</td>\n",
              "      <td>True</td>\n",
              "      <td>False</td>\n",
              "    </tr>\n",
              "    <tr>\n",
              "      <th>26</th>\n",
              "      <td>1067</td>\n",
              "      <td>6233230</td>\n",
              "      <td>5.0</td>\n",
              "      <td>2011-08-20 21:18:08</td>\n",
              "      <td>NaN</td>\n",
              "      <td>0</td>\n",
              "      <td>0</td>\n",
              "      <td>39115684</td>\n",
              "      <td>False</td>\n",
              "      <td>False</td>\n",
              "      <td>True</td>\n",
              "      <td>False</td>\n",
              "    </tr>\n",
              "    <tr>\n",
              "      <th>28</th>\n",
              "      <td>1067</td>\n",
              "      <td>4739252</td>\n",
              "      <td>5.0</td>\n",
              "      <td>2011-02-07 14:42:55</td>\n",
              "      <td>NaN</td>\n",
              "      <td>0</td>\n",
              "      <td>0</td>\n",
              "      <td>62878266</td>\n",
              "      <td>False</td>\n",
              "      <td>False</td>\n",
              "      <td>True</td>\n",
              "      <td>False</td>\n",
              "    </tr>\n",
              "    <tr>\n",
              "      <th>...</th>\n",
              "      <td>...</td>\n",
              "      <td>...</td>\n",
              "      <td>...</td>\n",
              "      <td>...</td>\n",
              "      <td>...</td>\n",
              "      <td>...</td>\n",
              "      <td>...</td>\n",
              "      <td>...</td>\n",
              "      <td>...</td>\n",
              "      <td>...</td>\n",
              "      <td>...</td>\n",
              "      <td>...</td>\n",
              "    </tr>\n",
              "    <tr>\n",
              "      <th>15519966</th>\n",
              "      <td>1065</td>\n",
              "      <td>908680</td>\n",
              "      <td>5.0</td>\n",
              "      <td>2009-10-13 20:15:52</td>\n",
              "      <td>NaN</td>\n",
              "      <td>0</td>\n",
              "      <td>0</td>\n",
              "      <td>80265490</td>\n",
              "      <td>False</td>\n",
              "      <td>False</td>\n",
              "      <td>True</td>\n",
              "      <td>False</td>\n",
              "    </tr>\n",
              "    <tr>\n",
              "      <th>15519970</th>\n",
              "      <td>1065</td>\n",
              "      <td>830033</td>\n",
              "      <td>5.0</td>\n",
              "      <td>2009-09-30 10:15:33</td>\n",
              "      <td>NaN</td>\n",
              "      <td>0</td>\n",
              "      <td>0</td>\n",
              "      <td>72260852</td>\n",
              "      <td>False</td>\n",
              "      <td>False</td>\n",
              "      <td>True</td>\n",
              "      <td>False</td>\n",
              "    </tr>\n",
              "    <tr>\n",
              "      <th>15519985</th>\n",
              "      <td>1065</td>\n",
              "      <td>231740</td>\n",
              "      <td>5.0</td>\n",
              "      <td>2009-05-18 06:53:10</td>\n",
              "      <td>NaN</td>\n",
              "      <td>0</td>\n",
              "      <td>0</td>\n",
              "      <td>63976629</td>\n",
              "      <td>False</td>\n",
              "      <td>False</td>\n",
              "      <td>True</td>\n",
              "      <td>False</td>\n",
              "    </tr>\n",
              "    <tr>\n",
              "      <th>15519996</th>\n",
              "      <td>1065</td>\n",
              "      <td>84314</td>\n",
              "      <td>5.0</td>\n",
              "      <td>2008-12-26 05:37:00</td>\n",
              "      <td>NaN</td>\n",
              "      <td>0</td>\n",
              "      <td>0</td>\n",
              "      <td>70807566</td>\n",
              "      <td>False</td>\n",
              "      <td>False</td>\n",
              "      <td>True</td>\n",
              "      <td>False</td>\n",
              "    </tr>\n",
              "    <tr>\n",
              "      <th>15519997</th>\n",
              "      <td>1065</td>\n",
              "      <td>81928</td>\n",
              "      <td>5.0</td>\n",
              "      <td>2019-02-18 05:43:58</td>\n",
              "      <td>I think my rating is more for the music and th...</td>\n",
              "      <td>13</td>\n",
              "      <td>0</td>\n",
              "      <td>53991342</td>\n",
              "      <td>False</td>\n",
              "      <td>False</td>\n",
              "      <td>True</td>\n",
              "      <td>False</td>\n",
              "    </tr>\n",
              "  </tbody>\n",
              "</table>\n",
              "<p>3570838 rows × 12 columns</p>\n",
              "</div>"
            ],
            "text/plain": [
              "          movie_id  rating_id  ...  user_eligible_for_trial user_has_payment_method\n",
              "10            1066    4247213  ...                     True                   False\n",
              "24            1067    8761221  ...                     True                   False\n",
              "25            1067    8458056  ...                     True                   False\n",
              "26            1067    6233230  ...                     True                   False\n",
              "28            1067    4739252  ...                     True                   False\n",
              "...            ...        ...  ...                      ...                     ...\n",
              "15519966      1065     908680  ...                     True                   False\n",
              "15519970      1065     830033  ...                     True                   False\n",
              "15519985      1065     231740  ...                     True                   False\n",
              "15519996      1065      84314  ...                     True                   False\n",
              "15519997      1065      81928  ...                     True                   False\n",
              "\n",
              "[3570838 rows x 12 columns]"
            ]
          },
          "metadata": {
            "tags": []
          },
          "execution_count": 58
        }
      ]
    },
    {
      "cell_type": "markdown",
      "metadata": {
        "id": "F37hrWvxw2u7"
      },
      "source": [
        "From the bar chart, we can determine which list have the most followers."
      ]
    },
    {
      "cell_type": "code",
      "metadata": {
        "id": "Q2mcvN92Jz4k",
        "colab": {
          "base_uri": "https://localhost:8080/",
          "height": 1027
        },
        "outputId": "6e9b2982-f1cc-4620-ddd1-40544a88fd22"
      },
      "source": [
        "m1['list_followers__Rank']=m1['list_followers'].rank(ascending=False)\n",
        "fol_m1=m1.loc[(m1['list_followers__Rank']<=10.0)].copy()\n",
        "print(fol_m1)\n",
        "\n",
        "plt.bar(fol_m1.list_title,fol_m1.list_followers,label=\"Blue Bar\",color='b',)\n",
        "plt.plot()\n",
        "plt.title('rank of list by number of followers')\n",
        "plt.xticks(rotation=90)"
      ],
      "execution_count": null,
      "outputs": [
        {
          "output_type": "stream",
          "text": [
            "        user_id  list_id  ... user_has_payment_method  list_followers__Rank\n",
            "402    75084886     6657  ...                    True                   3.0\n",
            "2230   61596227      115  ...                   False                  10.0\n",
            "2303   61596227     5512  ...                   False                   1.0\n",
            "3131    7614253      557  ...                   False                   9.0\n",
            "3134    7614253    66024  ...                   False                   8.0\n",
            "3206   91400208    10286  ...                   False                   7.0\n",
            "7297   47671509    18729  ...                   False                   6.0\n",
            "14298  73336965     7482  ...                    True                   2.0\n",
            "48602  58669275    16625  ...                   False                   5.0\n",
            "53297  86799281   108835  ...                    True                   4.0\n",
            "\n",
            "[10 rows x 16 columns]\n"
          ],
          "name": "stdout"
        },
        {
          "output_type": "execute_result",
          "data": {
            "text/plain": [
              "([0, 1, 2, 3, 4, 5, 6, 7, 8, 9], <a list of 10 Text major ticklabel objects>)"
            ]
          },
          "metadata": {
            "tags": []
          },
          "execution_count": 60
        },
        {
          "output_type": "display_data",
          "data": {
            "image/png": "[encoded data removed]",
            "text/plain": [
              "<Figure size 432x288 with 1 Axes>"
            ]
          },
          "metadata": {
            "tags": [],
            "needs_background": "light"
          }
        }
      ]
    },
    {
      "cell_type": "code",
      "metadata": {
        "id": "uZNJGKBFJ927",
        "colab": {
          "base_uri": "https://localhost:8080/"
        },
        "outputId": "b365c5dc-8287-443c-d97d-a5cd6bed3c72"
      },
      "source": [
        "m1['list_comments__Rank']=m1['list_comments'].rank(ascending=False)\n",
        "com_m1=m1.loc[(m1['list_followers__Rank']<=10.0)].copy()\n",
        "print(com_m1)"
      ],
      "execution_count": null,
      "outputs": [
        {
          "output_type": "stream",
          "text": [
            "        user_id  list_id  ... list_followers__Rank  list_comments__Rank\n",
            "402    75084886     6657  ...                  3.0                  4.0\n",
            "2230   61596227      115  ...                 10.0              44354.5\n",
            "2303   61596227     5512  ...                  1.0               1398.5\n",
            "3131    7614253      557  ...                  9.0                 53.0\n",
            "3134    7614253    66024  ...                  8.0                570.0\n",
            "3206   91400208    10286  ...                  7.0                 39.0\n",
            "7297   47671509    18729  ...                  6.0                115.0\n",
            "14298  73336965     7482  ...                  2.0                 53.0\n",
            "48602  58669275    16625  ...                  5.0                354.0\n",
            "53297  86799281   108835  ...                  4.0                  2.0\n",
            "\n",
            "[10 rows x 17 columns]\n"
          ],
          "name": "stdout"
        }
      ]
    },
    {
      "cell_type": "markdown",
      "metadata": {
        "id": "aqVSAjKexQGh"
      },
      "source": [
        "From the bar chart, we can determine which movie has the largest number of comments."
      ]
    },
    {
      "cell_type": "code",
      "metadata": {
        "colab": {
          "base_uri": "https://localhost:8080/",
          "height": 837
        },
        "id": "0FsrKgVHxHtY",
        "outputId": "f692e01a-66c2-4f49-a69c-72014622624a"
      },
      "source": [
        "plt.bar(fol_m1.list_title,fol_m1.list_comments,label=\"Blue Bar\",color='b',)\n",
        "plt.plot()\n",
        "plt.title('rank of list by number of comments')\n",
        "plt.xticks(rotation=90)"
      ],
      "execution_count": null,
      "outputs": [
        {
          "output_type": "execute_result",
          "data": {
            "text/plain": [
              "([0, 1, 2, 3, 4, 5, 6, 7, 8, 9], <a list of 10 Text major ticklabel objects>)"
            ]
          },
          "metadata": {
            "tags": []
          },
          "execution_count": 64
        },
        {
          "output_type": "display_data",
          "data": {
            "image/png": "[encoded data removed]",
            "text/plain": [
              "<Figure size 432x288 with 1 Axes>"
            ]
          },
          "metadata": {
            "tags": [],
            "needs_background": "light"
          }
        }
      ]
    },
    {
      "cell_type": "markdown",
      "metadata": {
        "id": "89S92I-jmpFg"
      },
      "source": [
        "Our group decided to do linear regression on movie_release_year, rating_score, critic_comment and movie_popularity to predict the movie's popularity. To achieve, our group will first partition our dataset in a training and a test set. We will do an 70/30 partition using train_test_split. "
      ]
    },
    {
      "cell_type": "markdown",
      "metadata": {
        "id": "zLHWJXsrNMaz"
      },
      "source": [
        "**Set Up**"
      ]
    },
    {
      "cell_type": "code",
      "metadata": {
        "id": "OrnaioL4NLaa"
      },
      "source": [
        "# Python ≥3.5 is required\n",
        "import sys\n",
        "assert sys.version_info >= (3, 5)\n",
        "\n",
        "# Scikit-Learn ≥0.20 is required\n",
        "import sklearn\n",
        "assert sklearn.__version__ >= \"0.20\"\n",
        "#Scikit-learn for implemeting LinearRegression from a existing algorithm.\n",
        "from sklearn.linear_model import LinearRegression\n",
        "from sklearn.preprocessing import PolynomialFeatures\n",
        "from sklearn.preprocessing import StandardScaler\n",
        "from sklearn.pipeline import Pipeline\n",
        "from sklearn.linear_model import Ridge\n",
        "from sklearn.linear_model import Lasso\n",
        "from sklearn.metrics import mean_squared_error\n",
        "from sklearn.utils import resample\n",
        "\n",
        "# Common imports\n",
        "import numpy as np\n",
        "import pandas as pd\n",
        "\n",
        "from IPython.display import clear_output\n",
        "\n",
        "# To plot pretty figures\n",
        "%matplotlib inline\n",
        "import matplotlib as mpl\n",
        "import matplotlib.pyplot as plt\n",
        "mpl.rc('axes', labelsize=14)\n",
        "mpl.rc('xtick', labelsize=12)\n",
        "mpl.rc('ytick', labelsize=12)\n",
        "\n",
        "np.random.seed(42)\n",
        "\n",
        "import warnings\n",
        "warnings.filterwarnings('ignore')\n",
        "\n",
        "def computeCost(X, y, theta):\n",
        "    return 1/(2*y.size)*np.sum(np.square(X.dot(theta)-y))\n"
      ],
      "execution_count": null,
      "outputs": []
    },
    {
      "cell_type": "markdown",
      "metadata": {
        "id": "d4Yj3huEn8Eo"
      },
      "source": [
        "**Data Partition**"
      ]
    },
    {
      "cell_type": "code",
      "metadata": {
        "id": "FirGKktsPJVm"
      },
      "source": [
        "from sklearn.model_selection import train_test_split\n",
        "m2,test = train_test_split(m2,test_size=0.3,random_state=43)"
      ],
      "execution_count": null,
      "outputs": []
    },
    {
      "cell_type": "markdown",
      "metadata": {
        "id": "nrI8brveoD1i"
      },
      "source": [
        "Then we will drop the values that are null and perform feature normalization. "
      ]
    },
    {
      "cell_type": "code",
      "metadata": {
        "id": "BTmVGhAh4EP2"
      },
      "source": [
        "# Drop any rows with null values\n",
        "m2.dropna(axis=0, how='any', inplace=True)\n",
        "test.dropna(axis=0, how='any', inplace=True)\n",
        "\n",
        "column_names = ['movie_release_year','rating_score','critic_comments']\n",
        "X = m2[column_names]\n",
        "y = m2['movie_popularity']\n",
        "\n",
        "X_test = test[column_names]\n",
        "y_test = test['movie_popularity']"
      ],
      "execution_count": null,
      "outputs": []
    },
    {
      "cell_type": "markdown",
      "metadata": {
        "id": "dmueERIZoTsB"
      },
      "source": [
        "Next we can perform linear regression and see how well we are able to predict the popularity of a movie. "
      ]
    },
    {
      "cell_type": "markdown",
      "metadata": {
        "id": "n8130KzVoe6I"
      },
      "source": [
        "**Multivariate Linear Regression**"
      ]
    },
    {
      "cell_type": "code",
      "metadata": {
        "colab": {
          "base_uri": "https://localhost:8080/"
        },
        "id": "Caf1wT_QRt2L",
        "outputId": "d4f5c597-c160-473a-eab5-061d85478be8"
      },
      "source": [
        "#Fit Multivariate Linear Regression Model\n",
        "model = LinearRegression(fit_intercept=False)\n",
        "model.fit(X, y)\n",
        "\n",
        "#Calculate the model's parameters error\n",
        "np.random.seed(1)\n",
        "err = np.std([model.fit(*resample(X, y)).coef_\n",
        "              for i in range(1000)], 0)\n",
        "\n",
        "params = pd.Series(model.coef_, index=X.columns)\n",
        "print(pd.DataFrame({'effect': params.round(0),\n",
        "                    'error': err.round(0)}))"
      ],
      "execution_count": null,
      "outputs": [
        {
          "output_type": "stream",
          "text": [
            "                    effect  error\n",
            "movie_release_year    -0.0    0.0\n",
            "rating_score         145.0   53.0\n",
            "critic_comments        0.0  155.0\n"
          ],
          "name": "stdout"
        }
      ]
    },
    {
      "cell_type": "markdown",
      "metadata": {
        "id": "OoBcWLHUpFrK"
      },
      "source": [
        "From the table above, we can see that rating_score is positively related to movie_popularity. The parameters of rating_score means that for one point increase in the movie's rating_score, 145 ± 53 more movie_popularity this movie will get. The parameters of critic_comments suggests that for one more comments a movie get, 0 ± 155 more movie_popularity the movie will get. This might because the number of people who would like to leave comments after watching a movie is very small, so the critic_comments does not have large effect on movie_popularity. "
      ]
    },
    {
      "cell_type": "code",
      "metadata": {
        "id": "VbHj0lKIYsel",
        "colab": {
          "base_uri": "https://localhost:8080/",
          "height": 302
        },
        "outputId": "e7c8806d-3b67-4914-d887-64c7957cadf3"
      },
      "source": [
        "RMSE_training_LR=np.sqrt(mean_squared_error(y,model.predict(X)))\n",
        "print(\"RMSE from Training=\"+str(round(RMSE_training_LR,4)))\n",
        "\n",
        "m2['predicted']=model.predict(X)\n",
        "m2[['movie_popularity','predicted']].plot(alpha=0.5);"
      ],
      "execution_count": null,
      "outputs": [
        {
          "output_type": "stream",
          "text": [
            "RMSE from Training=1062.0441\n"
          ],
          "name": "stdout"
        },
        {
          "output_type": "display_data",
          "data": {
            "image/png": "[encoded data removed]",
            "text/plain": [
              "<Figure size 432x288 with 1 Axes>"
            ]
          },
          "metadata": {
            "tags": [],
            "needs_background": "light"
          }
        }
      ]
    },
    {
      "cell_type": "code",
      "metadata": {
        "colab": {
          "base_uri": "https://localhost:8080/",
          "height": 302
        },
        "id": "-U6uKAC0iUe4",
        "outputId": "6ed23b43-9a9f-4501-e99e-dfe40f94e101"
      },
      "source": [
        "test['predicted']=model.predict(X_test)\n",
        "test[['movie_popularity','predicted']].plot(alpha=0.5);\n",
        "\n",
        "RMSE_test_LR=np.sqrt(mean_squared_error(y_test,model.predict(X_test)))\n",
        "print(\"RMSE from Test=\"+str(round(RMSE_test_LR,4)))"
      ],
      "execution_count": null,
      "outputs": [
        {
          "output_type": "stream",
          "text": [
            "RMSE from Test=1915.9775\n"
          ],
          "name": "stdout"
        },
        {
          "output_type": "display_data",
          "data": {
            "image/png": "[encoded data removed]",
            "text/plain": [
              "<Figure size 432x288 with 1 Axes>"
            ]
          },
          "metadata": {
            "tags": [],
            "needs_background": "light"
          }
        }
      ]
    },
    {
      "cell_type": "markdown",
      "metadata": {
        "id": "u8sswA2croUS"
      },
      "source": [
        "From the two plots, our model does not predict very well. Our features might not be very complete or there are some nonlinear relationships we were failed to consider them. However, we can gain insights from the coefficients of our model, and we can know that rating_score is positively related to movie_popularity.\n",
        "Our group also did ridge linear regression using skelearn's Pipeline."
      ]
    },
    {
      "cell_type": "markdown",
      "metadata": {
        "id": "2bwBzZ64sgBC"
      },
      "source": [
        "**Ridge Linear Regression** "
      ]
    },
    {
      "cell_type": "code",
      "metadata": {
        "colab": {
          "base_uri": "https://localhost:8080/",
          "height": 312
        },
        "id": "YW7L9GBuiuMX",
        "outputId": "66b4faaf-743c-4cef-e920-9137074527af"
      },
      "source": [
        "### START CODE HERE ### (≈ 9 lines of code)\n",
        "lambda_term=10\n",
        "Degree_of_the_Polynomial_Model=2\n",
        "polybig_features = PolynomialFeatures(degree=Degree_of_the_Polynomial_Model, include_bias=False)\n",
        "std_scaler = StandardScaler()\n",
        "Ridge_lin_reg = Ridge(alpha=lambda_term)\n",
        "\n",
        "\n",
        "\n",
        "\n",
        "ridge_regression_pipeline = Pipeline([\n",
        "        (\"poly_features\", polybig_features),\n",
        "        (\"std_scaler\", std_scaler),\n",
        "        (\"Ridge_lin_reg\", Ridge_lin_reg),\n",
        "    ])\n",
        "\n",
        "ridge_regression_pipeline.fit(X, y)\n",
        "### END CODE HERE ###\n",
        "\n",
        "#Calculate the model's parameters error\n",
        "np.random.seed(1)\n",
        "err = np.std([ridge_regression_pipeline.fit(*resample(X, y)).named_steps.Ridge_lin_reg.coef_\n",
        "              for i in range(1000)], 0)\n",
        "\n",
        "params = pd.Series(ridge_regression_pipeline.named_steps.Ridge_lin_reg.coef_, \n",
        "                   index=ridge_regression_pipeline.named_steps.poly_features.get_feature_names(X.columns))\n",
        "pd.DataFrame({'effect': params.round(0),'error': err.round(0)})"
      ],
      "execution_count": null,
      "outputs": [
        {
          "output_type": "execute_result",
          "data": {
            "text/html": [
              "<div>\n",
              "<style scoped>\n",
              "    .dataframe tbody tr th:only-of-type {\n",
              "        vertical-align: middle;\n",
              "    }\n",
              "\n",
              "    .dataframe tbody tr th {\n",
              "        vertical-align: top;\n",
              "    }\n",
              "\n",
              "    .dataframe thead th {\n",
              "        text-align: right;\n",
              "    }\n",
              "</style>\n",
              "<table border=\"1\" class=\"dataframe\">\n",
              "  <thead>\n",
              "    <tr style=\"text-align: right;\">\n",
              "      <th></th>\n",
              "      <th>effect</th>\n",
              "      <th>error</th>\n",
              "    </tr>\n",
              "  </thead>\n",
              "  <tbody>\n",
              "    <tr>\n",
              "      <th>movie_release_year</th>\n",
              "      <td>-25.0</td>\n",
              "      <td>69.0</td>\n",
              "    </tr>\n",
              "    <tr>\n",
              "      <th>rating_score</th>\n",
              "      <td>65.0</td>\n",
              "      <td>27.0</td>\n",
              "    </tr>\n",
              "    <tr>\n",
              "      <th>critic_comments</th>\n",
              "      <td>0.0</td>\n",
              "      <td>19.0</td>\n",
              "    </tr>\n",
              "    <tr>\n",
              "      <th>movie_release_year^2</th>\n",
              "      <td>-31.0</td>\n",
              "      <td>68.0</td>\n",
              "    </tr>\n",
              "    <tr>\n",
              "      <th>movie_release_year rating_score</th>\n",
              "      <td>61.0</td>\n",
              "      <td>27.0</td>\n",
              "    </tr>\n",
              "    <tr>\n",
              "      <th>movie_release_year critic_comments</th>\n",
              "      <td>0.0</td>\n",
              "      <td>19.0</td>\n",
              "    </tr>\n",
              "    <tr>\n",
              "      <th>rating_score^2</th>\n",
              "      <td>60.0</td>\n",
              "      <td>89.0</td>\n",
              "    </tr>\n",
              "    <tr>\n",
              "      <th>rating_score critic_comments</th>\n",
              "      <td>0.0</td>\n",
              "      <td>19.0</td>\n",
              "    </tr>\n",
              "    <tr>\n",
              "      <th>critic_comments^2</th>\n",
              "      <td>0.0</td>\n",
              "      <td>19.0</td>\n",
              "    </tr>\n",
              "  </tbody>\n",
              "</table>\n",
              "</div>"
            ],
            "text/plain": [
              "                                    effect  error\n",
              "movie_release_year                   -25.0   69.0\n",
              "rating_score                          65.0   27.0\n",
              "critic_comments                        0.0   19.0\n",
              "movie_release_year^2                 -31.0   68.0\n",
              "movie_release_year rating_score       61.0   27.0\n",
              "movie_release_year critic_comments     0.0   19.0\n",
              "rating_score^2                        60.0   89.0\n",
              "rating_score critic_comments           0.0   19.0\n",
              "critic_comments^2                      0.0   19.0"
            ]
          },
          "metadata": {
            "tags": []
          },
          "execution_count": 33
        }
      ]
    },
    {
      "cell_type": "markdown",
      "metadata": {
        "id": "ELcrNOEXs2Lr"
      },
      "source": [
        "From the table above, we can conclude that one more year goes by, the movie popularity will decrease by 25 ± 69. It means the older movies will be more popular. "
      ]
    },
    {
      "cell_type": "code",
      "metadata": {
        "colab": {
          "base_uri": "https://localhost:8080/",
          "height": 302
        },
        "id": "aLOgwifDkecg",
        "outputId": "be07777e-a018-4620-edc7-abc29d6deba6"
      },
      "source": [
        "#Calculate model RMSE\n",
        "RMSE_training_Ridge=np.sqrt(mean_squared_error(y,ridge_regression_pipeline.predict(X)))\n",
        "print(\"RMSE Ridge LR from Training=\"+str(round(RMSE_training_Ridge,4)))\n",
        "\n",
        "#Plot predicted values \n",
        "m2['predicted']=ridge_regression_pipeline.predict(X)\n",
        "m2[['movie_popularity','predicted']].plot(alpha=0.5);"
      ],
      "execution_count": null,
      "outputs": [
        {
          "output_type": "stream",
          "text": [
            "RMSE Ridge LR from Training=1052.1848\n"
          ],
          "name": "stdout"
        },
        {
          "output_type": "display_data",
          "data": {
            "image/png": "[encoded data removed]",
            "text/plain": [
              "<Figure size 432x288 with 1 Axes>"
            ]
          },
          "metadata": {
            "tags": [],
            "needs_background": "light"
          }
        }
      ]
    },
    {
      "cell_type": "code",
      "metadata": {
        "colab": {
          "base_uri": "https://localhost:8080/",
          "height": 302
        },
        "id": "QTUDI4iukrLa",
        "outputId": "e6bace41-2369-4d98-95a7-9b0882d4574a"
      },
      "source": [
        "RMSE_test_Ridge=np.sqrt(mean_squared_error(y_test,ridge_regression_pipeline.predict(X_test)))\n",
        "print(\"RMSE Ridge LR from Test=\"+str(round(RMSE_test_Ridge,4)))\n",
        "\n",
        "test['predicted']=ridge_regression_pipeline.predict(X_test)\n",
        "test[['movie_popularity','predicted']].plot(alpha=0.5);"
      ],
      "execution_count": null,
      "outputs": [
        {
          "output_type": "stream",
          "text": [
            "RMSE Ridge LR from Test=1896.4349\n"
          ],
          "name": "stdout"
        },
        {
          "output_type": "display_data",
          "data": {
            "image/png": "[encoded data removed]",
            "text/plain": [
              "<Figure size 432x288 with 1 Axes>"
            ]
          },
          "metadata": {
            "tags": [],
            "needs_background": "light"
          }
        }
      ]
    },
    {
      "cell_type": "markdown",
      "metadata": {
        "id": "wVkGHMxWtTGp"
      },
      "source": [
        "The model does not perform very well to predict the movie_popularity. It might because we did not use a lot of attributes. "
      ]
    },
    {
      "cell_type": "markdown",
      "metadata": {
        "id": "qDHH3iyPuRLR"
      },
      "source": [
        "We also did lasso linear regression to predict the movie_popularity"
      ]
    },
    {
      "cell_type": "markdown",
      "metadata": {
        "id": "5s5ZKZnVuMzh"
      },
      "source": [
        "**Lasso Linear Regression Exercise**"
      ]
    },
    {
      "cell_type": "code",
      "metadata": {
        "colab": {
          "base_uri": "https://localhost:8080/",
          "height": 312
        },
        "id": "rzjc8obUk03n",
        "outputId": "976719f2-3497-4c96-b4c4-c6bc2f070faf"
      },
      "source": [
        "### START CODE HERE ### (≈ 9 lines of code)\n",
        "lambda_term=10\n",
        "Degree_of_the_Polynomial_Model=2\n",
        "Lasso_lin_reg = Lasso(alpha=lambda_term)\n",
        "polybig_features = PolynomialFeatures(degree=Degree_of_the_Polynomial_Model, include_bias=False)\n",
        "std_scaler = StandardScaler()\n",
        "lasso_regression_pipeline = Pipeline([\n",
        "        (\"poly_features\", polybig_features),\n",
        "        (\"std_scaler\", std_scaler),\n",
        "        (\"Lasso_lin_reg\", Lasso_lin_reg),\n",
        "    ])\n",
        "\n",
        "lasso_regression_pipeline.fit(X, y)\n",
        "### END CODE HERE ###\n",
        "\n",
        "np.random.seed(1)\n",
        "err = np.std([lasso_regression_pipeline.fit(*resample(X, y)).named_steps.Lasso_lin_reg.coef_\n",
        "              for i in range(1000)], 0)\n",
        "\n",
        "params = pd.Series(lasso_regression_pipeline.named_steps.Lasso_lin_reg.coef_, \n",
        "                   index=lasso_regression_pipeline.named_steps.poly_features.get_feature_names(X.columns))\n",
        "table=pd.DataFrame({'effect': params.round(0),'error': err.round(0)})\n",
        "table"
      ],
      "execution_count": null,
      "outputs": [
        {
          "output_type": "execute_result",
          "data": {
            "text/html": [
              "<div>\n",
              "<style scoped>\n",
              "    .dataframe tbody tr th:only-of-type {\n",
              "        vertical-align: middle;\n",
              "    }\n",
              "\n",
              "    .dataframe tbody tr th {\n",
              "        vertical-align: top;\n",
              "    }\n",
              "\n",
              "    .dataframe thead th {\n",
              "        text-align: right;\n",
              "    }\n",
              "</style>\n",
              "<table border=\"1\" class=\"dataframe\">\n",
              "  <thead>\n",
              "    <tr style=\"text-align: right;\">\n",
              "      <th></th>\n",
              "      <th>effect</th>\n",
              "      <th>error</th>\n",
              "    </tr>\n",
              "  </thead>\n",
              "  <tbody>\n",
              "    <tr>\n",
              "      <th>movie_release_year</th>\n",
              "      <td>-135.0</td>\n",
              "      <td>147.0</td>\n",
              "    </tr>\n",
              "    <tr>\n",
              "      <th>rating_score</th>\n",
              "      <td>0.0</td>\n",
              "      <td>160.0</td>\n",
              "    </tr>\n",
              "    <tr>\n",
              "      <th>critic_comments</th>\n",
              "      <td>0.0</td>\n",
              "      <td>49.0</td>\n",
              "    </tr>\n",
              "    <tr>\n",
              "      <th>movie_release_year^2</th>\n",
              "      <td>-0.0</td>\n",
              "      <td>147.0</td>\n",
              "    </tr>\n",
              "    <tr>\n",
              "      <th>movie_release_year rating_score</th>\n",
              "      <td>0.0</td>\n",
              "      <td>152.0</td>\n",
              "    </tr>\n",
              "    <tr>\n",
              "      <th>movie_release_year critic_comments</th>\n",
              "      <td>0.0</td>\n",
              "      <td>32.0</td>\n",
              "    </tr>\n",
              "    <tr>\n",
              "      <th>rating_score^2</th>\n",
              "      <td>177.0</td>\n",
              "      <td>237.0</td>\n",
              "    </tr>\n",
              "    <tr>\n",
              "      <th>rating_score critic_comments</th>\n",
              "      <td>0.0</td>\n",
              "      <td>21.0</td>\n",
              "    </tr>\n",
              "    <tr>\n",
              "      <th>critic_comments^2</th>\n",
              "      <td>0.0</td>\n",
              "      <td>0.0</td>\n",
              "    </tr>\n",
              "  </tbody>\n",
              "</table>\n",
              "</div>"
            ],
            "text/plain": [
              "                                    effect  error\n",
              "movie_release_year                  -135.0  147.0\n",
              "rating_score                           0.0  160.0\n",
              "critic_comments                        0.0   49.0\n",
              "movie_release_year^2                  -0.0  147.0\n",
              "movie_release_year rating_score        0.0  152.0\n",
              "movie_release_year critic_comments     0.0   32.0\n",
              "rating_score^2                       177.0  237.0\n",
              "rating_score critic_comments           0.0   21.0\n",
              "critic_comments^2                      0.0    0.0"
            ]
          },
          "metadata": {
            "tags": []
          },
          "execution_count": 37
        }
      ]
    },
    {
      "cell_type": "code",
      "metadata": {
        "colab": {
          "base_uri": "https://localhost:8080/",
          "height": 106
        },
        "id": "X6uot0v7k7yX",
        "outputId": "4bce2e51-2480-4014-8f2e-41cf0874265b"
      },
      "source": [
        "table[ table['effect']!=0 ]"
      ],
      "execution_count": null,
      "outputs": [
        {
          "output_type": "execute_result",
          "data": {
            "text/html": [
              "<div>\n",
              "<style scoped>\n",
              "    .dataframe tbody tr th:only-of-type {\n",
              "        vertical-align: middle;\n",
              "    }\n",
              "\n",
              "    .dataframe tbody tr th {\n",
              "        vertical-align: top;\n",
              "    }\n",
              "\n",
              "    .dataframe thead th {\n",
              "        text-align: right;\n",
              "    }\n",
              "</style>\n",
              "<table border=\"1\" class=\"dataframe\">\n",
              "  <thead>\n",
              "    <tr style=\"text-align: right;\">\n",
              "      <th></th>\n",
              "      <th>effect</th>\n",
              "      <th>error</th>\n",
              "    </tr>\n",
              "  </thead>\n",
              "  <tbody>\n",
              "    <tr>\n",
              "      <th>movie_release_year</th>\n",
              "      <td>-135.0</td>\n",
              "      <td>147.0</td>\n",
              "    </tr>\n",
              "    <tr>\n",
              "      <th>rating_score^2</th>\n",
              "      <td>177.0</td>\n",
              "      <td>237.0</td>\n",
              "    </tr>\n",
              "  </tbody>\n",
              "</table>\n",
              "</div>"
            ],
            "text/plain": [
              "                    effect  error\n",
              "movie_release_year  -135.0  147.0\n",
              "rating_score^2       177.0  237.0"
            ]
          },
          "metadata": {
            "tags": []
          },
          "execution_count": 38
        }
      ]
    },
    {
      "cell_type": "markdown",
      "metadata": {
        "id": "EMjeXSvFuXiq"
      },
      "source": [
        "From the table above, we can conclude that movie_release_year is negatively related to movie_popularity, and rating_score is positively related to movie_popularity. "
      ]
    },
    {
      "cell_type": "code",
      "metadata": {
        "colab": {
          "base_uri": "https://localhost:8080/",
          "height": 302
        },
        "id": "7HlGH9h4lAwp",
        "outputId": "ebbd3b37-3eb9-4252-e6dc-ce60e3075092"
      },
      "source": [
        "RMSE_training_Lasso=np.sqrt(mean_squared_error(y, lasso_regression_pipeline.predict(X)))\n",
        "print(\"RMSE from Training=\" + str(round(RMSE_training_Lasso,4)))\n",
        "\n",
        "m2['predicted'] = lasso_regression_pipeline.predict(X)\n",
        "m2[['movie_popularity', 'predicted']].plot(alpha=0.5);"
      ],
      "execution_count": null,
      "outputs": [
        {
          "output_type": "stream",
          "text": [
            "RMSE from Training=1035.9009\n"
          ],
          "name": "stdout"
        },
        {
          "output_type": "display_data",
          "data": {
            "image/png": "[encoded data removed]",
            "text/plain": [
              "<Figure size 432x288 with 1 Axes>"
            ]
          },
          "metadata": {
            "tags": [],
            "needs_background": "light"
          }
        }
      ]
    },
    {
      "cell_type": "code",
      "metadata": {
        "colab": {
          "base_uri": "https://localhost:8080/",
          "height": 302
        },
        "id": "iSW5n9kFlHXG",
        "outputId": "71538b23-32bb-46bf-a19f-d7ca59ea4a46"
      },
      "source": [
        "RMSE_test_Lasso=np.sqrt(mean_squared_error(y_test, lasso_regression_pipeline.predict(X_test)))\n",
        "print(\"RMSE from Test=\" + str(round(RMSE_test_Lasso,4)))\n",
        "\n",
        "test['predicted'] = lasso_regression_pipeline.predict(X_test)\n",
        "test[['movie_popularity', 'predicted']].plot(alpha=0.5);"
      ],
      "execution_count": null,
      "outputs": [
        {
          "output_type": "stream",
          "text": [
            "RMSE from Test=1858.4497\n"
          ],
          "name": "stdout"
        },
        {
          "output_type": "display_data",
          "data": {
            "image/png": "[encoded data removed]",
            "text/plain": [
              "<Figure size 432x288 with 1 Axes>"
            ]
          },
          "metadata": {
            "tags": [],
            "needs_background": "light"
          }
        }
      ]
    },
    {
      "cell_type": "markdown",
      "metadata": {
        "id": "qrZHNntLumRi"
      },
      "source": [
        "Our model does not predict movie popularity very well. That might because the attributes we used are not large enough, and in the real world, there are a lot of uncertainties that can affect movie popularity. "
      ]
    },
    {
      "cell_type": "markdown",
      "metadata": {
        "id": "-P0DBIE7u_ta"
      },
      "source": [
        "# **5. Deployment**"
      ]
    },
    {
      "cell_type": "markdown",
      "metadata": {
        "id": "uY2Wa7byvGfa"
      },
      "source": [
        "The growth of the movie industry is tremendous. As shown in the histogram of movie released year, we can see that there is a sudden increase of the number of the movie released, because of the development of the internet and movie industry. However, as we can see from the rank of top 10 popular movies, most of them are relatively old movie. The percent of a “good movie” holds a relatively small percentage in most recent years. Therefore, finding “good movies” is a truly important and hard task. \n",
        "\n",
        "As we mentioned in the first section in Bussiness Understanding, one of the outstanding point of MUBI is its hand-curated selection on films. The process can ensure that users are recommended with great or at least above average level movies. And this is part of the reason for people to pay for the membership. One of the advantages of the hand-curated selection is that people can get touch with more diverse movies. Though, one possible drawback on hand-curated might be influenced  individual preference subjectively. The  movies which MUBI staff like may not fit the taste of their users. So while the pickers should somehow consider the general atheistic standard instead of personal preferences, review the online comments and expectations on different movies are also important. For example, 5 of the 30 movies recommend can be selected by Big Data, considering the preference of the user itself and market trend. Preference can be detected by the critique, viewing history, list the user participated.\n",
        "\n",
        "At the same time, with the existence of the global community and rating system, MUBI should be able to find what people truly like and care about. And if they do some continuous reviews on that, they should be able to attract more customers through recommendations from old customers. However, from the average rating on movies, we could see MUBI may not spend enough efforts on doing that. It is totally understandable that different audience have different preferences. Some low rating doesn't indicate the movie is bad. But when look at the overall trend of rating, it doesn't seem really good. With the human selection, the overall rating of movies posted in MUBI should look better than now. Instead of having a slightly skew to higher rates, we expect to see higher scores. If MUBI can’t play to the strength of their characteristics, the gradual decline of the entire site is inevitable. If we look from another aspect, as soon as MUBI starts paying attention on that, they are in the path to success.\n",
        "\n",
        "From the rank of comments and followers to list, we can see the number is much smaller compared with the number of people rate movies. The largest number of followers to list is 4914 and the largest number of comments to list is 19. From the rank on average rating score, we can see there are more than 3800 movies whose average rating scores are 5.0. The difference in scale is giant. We think the problem may locate at three parts. First, people are less likely to group movies like group songs, except some super fans of certain series movies. So from the basic level, movie list is less attractive to people. Second, most people will watch a movie after advertisement or recommendation from people around. Only part of the people will watch a movie when seeing the recommendation in the website. And even less people will review other's list and decide to watch certain movie. The usefulness of movie list in general sense is much weaker. Therefore, managers should strengthen it and use it in a good direction. They may scheme some activities based on the movie list; for instance, they can have some grants if people finish watching a whole series. Or, they can have some series question based on series movies or they can invite some critics to post some interesting ideas or in more professional way. These cannot only bring some attention to the movie list, but also ignite people's passion on watching movie and make MUBI more active. This also would attract new users to stay in the website, as a place to hear some voices.\n",
        "\n",
        "Other than the website, we also do the research on the general movie industry. We use the linear regression line, exploring the factors of popular movies and even trying to predict the performance of the movie before releasing. We can see that movie release year is negatively related to the popular movies, which alert the current condition of movie industry, while everyone tries to make a profits instead of truly telling a story. Also we can see that the score the users of website is highly correlated to the popularity of the movies. However, these two variables are mutually influenced. The scoring will be influenced by common senses of the movies and other’s views; while higher score means better performance of the movie, then it becomes popular. \n",
        "\n",
        "By analyzing the data we have, and the table and graphs we created, we take a look at the movie industry in general. More specifically, we look at the MUBI website and explore top popular movies and top scoring movies. Additionally, we offer some suggestions to the website by looking at various datas to attract more users and stay website actively. "
      ]
    }
  ]
}